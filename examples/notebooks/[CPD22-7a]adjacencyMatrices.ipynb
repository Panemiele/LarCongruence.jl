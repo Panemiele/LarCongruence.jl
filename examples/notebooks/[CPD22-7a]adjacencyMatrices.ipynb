{
 "cells": [
  {
   "cell_type": "code",
   "execution_count": 1,
   "id": "e1c3ee29-6e13-42bc-acf7-ee78ebc90164",
   "metadata": {},
   "outputs": [
    {
     "data": {
      "text/plain": [
       "LinearAlgebraicRepresentation"
      ]
     },
     "execution_count": 1,
     "metadata": {},
     "output_type": "execute_result"
    }
   ],
   "source": [
    "using LinearAlgebraicRepresentation\n",
    "Lar= LinearAlgebraicRepresentation"
   ]
  },
  {
   "cell_type": "code",
   "execution_count": 2,
   "id": "361727d3-5100-4231-a37c-e0c03208e0e7",
   "metadata": {},
   "outputs": [],
   "source": [
    "using SparseArrays\n",
    "using DataStructures\n",
    "using NearestNeighbors"
   ]
  },
  {
   "cell_type": "code",
   "execution_count": 8,
   "id": "8f895d80",
   "metadata": {},
   "outputs": [
    {
     "name": "stderr",
     "output_type": "stream",
     "text": [
      "\u001b[32m\u001b[1m    Updating\u001b[22m\u001b[39m registry at `~/.julia/registries/General.toml`\n",
      "\u001b[32m\u001b[1m   Resolving\u001b[22m\u001b[39m package versions...\n",
      "\u001b[32m\u001b[1m   Installed\u001b[22m\u001b[39m NaNMath ─────────── v1.0.0\n",
      "\u001b[32m\u001b[1m   Installed\u001b[22m\u001b[39m FixedPointNumbers ─ v0.8.4\n",
      "\u001b[32m\u001b[1m   Installed\u001b[22m\u001b[39m ColorTypes ──────── v0.10.12\n",
      "\u001b[32m\u001b[1m   Installed\u001b[22m\u001b[39m Colors ──────────── v0.12.8\n",
      "┌ Warning: The active manifest file at `/Users/panemiele/IdeaProjects/LocalCongruence.jl/LAR_Congruence/Manifest.toml` has an old format that is being maintained.\n",
      "│ To update to the new format run `Pkg.upgrade_manifest()` which will upgrade the format without re-resolving.\n",
      "└ @ Pkg.Types /Users/julia/buildbot/worker/package_macos64/build/usr/share/julia/stdlib/v1.7/Pkg/src/manifest.jl:287\n",
      "\u001b[32m\u001b[1m    Updating\u001b[22m\u001b[39m `~/IdeaProjects/LocalCongruence.jl/LAR_Congruence/Project.toml`\n",
      " \u001b[90m [916415d5] \u001b[39m\u001b[92m+ Images v0.23.3\u001b[39m\n",
      "\u001b[32m\u001b[1m    Updating\u001b[22m\u001b[39m `~/IdeaProjects/LocalCongruence.jl/LAR_Congruence/Manifest.toml`\n",
      " \u001b[90m [621f4979] \u001b[39m\u001b[92m+ AbstractFFTs v1.1.0\u001b[39m\n",
      " \u001b[90m [13072b0f] \u001b[39m\u001b[92m+ AxisAlgorithms v1.0.1\u001b[39m\n",
      " \u001b[90m [39de3d68] \u001b[39m\u001b[92m+ AxisArrays v0.4.6\u001b[39m\n",
      " \u001b[90m [49dc2e85] \u001b[39m\u001b[92m+ Calculus v0.5.1\u001b[39m\n",
      " \u001b[90m [aafaddc9] \u001b[39m\u001b[92m+ CatIndices v0.2.2\u001b[39m\n",
      " \u001b[90m [d360d2e6] \u001b[39m\u001b[92m+ ChainRulesCore v1.15.0\u001b[39m\n",
      " \u001b[90m [9e997f8a] \u001b[39m\u001b[92m+ ChangesOfVariables v0.1.3\u001b[39m\n",
      " \u001b[90m [3da002f7] \u001b[39m\u001b[92m+ ColorTypes v0.10.12\u001b[39m\n",
      " \u001b[90m [c3611d14] \u001b[39m\u001b[92m+ ColorVectorSpace v0.8.7\u001b[39m\n",
      " \u001b[90m [5ae59095] \u001b[39m\u001b[92m+ Colors v0.12.8\u001b[39m\n",
      " \u001b[90m [ed09eef8] \u001b[39m\u001b[92m+ ComputationalResources v0.3.2\u001b[39m\n",
      " \u001b[90m [150eb455] \u001b[39m\u001b[92m+ CoordinateTransformations v0.6.2\u001b[39m\n",
      " \u001b[90m [dc8bdbbb] \u001b[39m\u001b[92m+ CustomUnitRanges v1.0.2\u001b[39m\n",
      " \u001b[90m [9a962f9c] \u001b[39m\u001b[92m+ DataAPI v1.10.0\u001b[39m\n",
      " \u001b[90m [ffbed154] \u001b[39m\u001b[92m+ DocStringExtensions v0.8.6\u001b[39m\n",
      " \u001b[90m [fa6b7ba4] \u001b[39m\u001b[92m+ DualNumbers v0.6.8\u001b[39m\n",
      " \u001b[90m [4f61f5a4] \u001b[39m\u001b[92m+ FFTViews v0.3.2\u001b[39m\n",
      " \u001b[90m [7a1cc6ca] \u001b[39m\u001b[92m+ FFTW v1.4.6\u001b[39m\n",
      " \u001b[90m [5789e2e9] \u001b[39m\u001b[92m+ FileIO v1.14.0\u001b[39m\n",
      " \u001b[90m [53c48c17] \u001b[39m\u001b[92m+ FixedPointNumbers v0.8.4\u001b[39m\n",
      " \u001b[90m [a2bd30eb] \u001b[39m\u001b[92m+ Graphics v1.1.2\u001b[39m\n",
      " \u001b[90m [bbac6d45] \u001b[39m\u001b[92m+ IdentityRanges v0.3.1\u001b[39m\n",
      " \u001b[90m [2803e5a7] \u001b[39m\u001b[92m+ ImageAxes v0.6.9\u001b[39m\n",
      " \u001b[90m [f332f351] \u001b[39m\u001b[92m+ ImageContrastAdjustment v0.3.7\u001b[39m\n",
      " \u001b[90m [a09fc81d] \u001b[39m\u001b[92m+ ImageCore v0.8.21\u001b[39m\n",
      " \u001b[90m [51556ac3] \u001b[39m\u001b[92m+ ImageDistances v0.2.13\u001b[39m\n",
      " \u001b[90m [6a3955dd] \u001b[39m\u001b[92m+ ImageFiltering v0.6.9\u001b[39m\n",
      " \u001b[90m [bc367c6b] \u001b[39m\u001b[92m+ ImageMetadata v0.9.5\u001b[39m\n",
      " \u001b[90m [787d08f9] \u001b[39m\u001b[92m+ ImageMorphology v0.2.11\u001b[39m\n",
      " \u001b[90m [2996bd0c] \u001b[39m\u001b[92m+ ImageQualityIndexes v0.2.2\u001b[39m\n",
      " \u001b[90m [4e3cecfd] \u001b[39m\u001b[92m+ ImageShow v0.2.3\u001b[39m\n",
      " \u001b[90m [02fcd773] \u001b[39m\u001b[92m+ ImageTransformations v0.8.13\u001b[39m\n",
      " \u001b[90m [916415d5] \u001b[39m\u001b[92m+ Images v0.23.3\u001b[39m\n",
      " \u001b[90m [9b13fd28] \u001b[39m\u001b[92m+ IndirectArrays v0.5.1\u001b[39m\n",
      " \u001b[90m [a98d9a8b] \u001b[39m\u001b[92m+ Interpolations v0.13.6\u001b[39m\n",
      " \u001b[90m [8197267c] \u001b[39m\u001b[92m+ IntervalSets v0.7.1\u001b[39m\n",
      " \u001b[90m [3587e190] \u001b[39m\u001b[92m+ InverseFunctions v0.1.7\u001b[39m\n",
      " \u001b[90m [92d709cd] \u001b[39m\u001b[92m+ IrrationalConstants v0.1.1\u001b[39m\n",
      " \u001b[90m [c8e1da08] \u001b[39m\u001b[92m+ IterTools v1.4.0\u001b[39m\n",
      " \u001b[90m [692b3bcd] \u001b[39m\u001b[92m+ JLLWrappers v1.4.1\u001b[39m\n",
      " \u001b[90m [2ab3a3ac] \u001b[39m\u001b[92m+ LogExpFunctions v0.3.15\u001b[39m\n",
      " \u001b[90m [1914dd2f] \u001b[39m\u001b[92m+ MacroTools v0.5.9\u001b[39m\n",
      " \u001b[90m [dbb5928d] \u001b[39m\u001b[92m+ MappedArrays v0.2.2\u001b[39m\n",
      " \u001b[90m [e1d29d7a] \u001b[39m\u001b[92m+ Missings v0.4.5\u001b[39m\n",
      " \u001b[90m [e94cdb99] \u001b[39m\u001b[92m+ MosaicViews v0.2.4\u001b[39m\n",
      " \u001b[90m [77ba4419] \u001b[39m\u001b[92m+ NaNMath v1.0.0\u001b[39m\n",
      " \u001b[90m [6fe1bfb0] \u001b[39m\u001b[92m+ OffsetArrays v0.11.4\u001b[39m\n",
      " \u001b[90m [5432bcbf] \u001b[39m\u001b[92m+ PaddedViews v0.5.11\u001b[39m\n",
      " \u001b[90m [d96e819e] \u001b[39m\u001b[92m+ Parameters v0.12.3\u001b[39m\n",
      " \u001b[90m [21216c6a] \u001b[39m\u001b[92m+ Preferences v1.3.0\u001b[39m\n",
      " \u001b[90m [94ee1d12] \u001b[39m\u001b[92m+ Quaternions v0.4.9\u001b[39m\n",
      " \u001b[90m [b3c3ace0] \u001b[39m\u001b[92m+ RangeArrays v0.3.2\u001b[39m\n",
      " \u001b[90m [c84ed2f1] \u001b[39m\u001b[92m+ Ratios v0.4.3\u001b[39m\n",
      " \u001b[90m [189a3867] \u001b[39m\u001b[92m+ Reexport v1.2.2\u001b[39m\n",
      " \u001b[90m [ae029012] \u001b[39m\u001b[92m+ Requires v1.3.0\u001b[39m\n",
      " \u001b[90m [6038ab10] \u001b[39m\u001b[92m+ Rotations v1.2.0\u001b[39m\n",
      " \u001b[90m [699a6c99] \u001b[39m\u001b[92m+ SimpleTraits v0.9.4\u001b[39m\n",
      " \u001b[90m [a2af1166] \u001b[39m\u001b[92m+ SortingAlgorithms v0.3.1\u001b[39m\n",
      " \u001b[90m [276daf66] \u001b[39m\u001b[92m+ SpecialFunctions v1.8.6\u001b[39m\n",
      " \u001b[90m [2913bbd2] \u001b[39m\u001b[92m+ StatsBase v0.32.0\u001b[39m\n",
      " \u001b[90m [06e1c1a7] \u001b[39m\u001b[92m+ TiledIteration v0.2.5\u001b[39m\n",
      " \u001b[90m [3a884ed6] \u001b[39m\u001b[92m+ UnPack v1.0.2\u001b[39m\n",
      " \u001b[90m [efce3f68] \u001b[39m\u001b[92m+ WoodburyMatrices v0.5.5\u001b[39m\n",
      " \u001b[90m [f5851436] \u001b[39m\u001b[92m+ FFTW_jll v3.3.10+0\u001b[39m\n",
      " \u001b[90m [1d5cc7b8] \u001b[39m\u001b[92m+ IntelOpenMP_jll v2018.0.3+2\u001b[39m\n",
      " \u001b[90m [856f044c] \u001b[39m\u001b[92m+ MKL_jll v2022.0.0+0\u001b[39m\n",
      " \u001b[90m [efe28fd5] \u001b[39m\u001b[92m+ OpenSpecFun_jll v0.5.5+0\u001b[39m\n",
      " \u001b[90m [0dad84c5] \u001b[39m\u001b[92m+ ArgTools\u001b[39m\n",
      " \u001b[90m [56f22d72] \u001b[39m\u001b[92m+ Artifacts\u001b[39m\n",
      " \u001b[90m [f43a241f] \u001b[39m\u001b[92m+ Downloads\u001b[39m\n",
      " \u001b[90m [4af54fe1] \u001b[39m\u001b[92m+ LazyArtifacts\u001b[39m\n",
      " \u001b[90m [b27032c2] \u001b[39m\u001b[92m+ LibCURL\u001b[39m\n",
      " \u001b[90m [ca575930] \u001b[39m\u001b[92m+ NetworkOptions\u001b[39m\n",
      " \u001b[90m [fa267f1f] \u001b[39m\u001b[92m+ TOML\u001b[39m\n",
      " \u001b[90m [a4e569a6] \u001b[39m\u001b[92m+ Tar\u001b[39m\n",
      " \u001b[90m [e66e0078] \u001b[39m\u001b[92m+ CompilerSupportLibraries_jll\u001b[39m\n",
      " \u001b[90m [deac9b47] \u001b[39m\u001b[92m+ LibCURL_jll\u001b[39m\n",
      " \u001b[90m [29816b5a] \u001b[39m\u001b[92m+ LibSSH2_jll\u001b[39m\n",
      " \u001b[90m [c8ffd9c3] \u001b[39m\u001b[92m+ MbedTLS_jll\u001b[39m\n",
      " \u001b[90m [14a3606d] \u001b[39m\u001b[92m+ MozillaCACerts_jll\u001b[39m\n",
      " \u001b[90m [4536629a] \u001b[39m\u001b[92m+ OpenBLAS_jll\u001b[39m\n",
      " \u001b[90m [05823500] \u001b[39m\u001b[92m+ OpenLibm_jll\u001b[39m\n",
      " \u001b[90m [83775a58] \u001b[39m\u001b[92m+ Zlib_jll\u001b[39m\n",
      " \u001b[90m [8e850b90] \u001b[39m\u001b[92m+ libblastrampoline_jll\u001b[39m\n",
      " \u001b[90m [8e850ede] \u001b[39m\u001b[92m+ nghttp2_jll\u001b[39m\n",
      " \u001b[90m [3f19e933] \u001b[39m\u001b[92m+ p7zip_jll\u001b[39m\n",
      "┌ Warning: The active manifest file is an older format with no julia version entry. Dependencies may have been resolved with a different julia version.\n",
      "└ @ nothing /Users/panemiele/IdeaProjects/LocalCongruence.jl/LAR_Congruence/Manifest.toml:0\n",
      "\u001b[32m\u001b[1mPrecompiling\u001b[22m\u001b[39m project...\n",
      "\u001b[32m  ✓ \u001b[39m\u001b[90mReexport\u001b[39m\n",
      "\u001b[32m  ✓ \u001b[39m\u001b[90mNaNMath\u001b[39m\n",
      "\u001b[32m  ✓ \u001b[39m\u001b[90mDualNumbers\u001b[39m\n",
      "\u001b[91m  ✗ \u001b[39mSuiteSparseGraphBLAS\n",
      "\u001b[32m  ✓ \u001b[39m\u001b[90mFixedPointNumbers\u001b[39m\n",
      "\u001b[32m  ✓ \u001b[39m\u001b[90mQuaternions\u001b[39m\n",
      "\u001b[91m  ✗ \u001b[39mSparseMM\n",
      "\u001b[32m  ✓ \u001b[39m\u001b[90mRotations\u001b[39m\n",
      "\u001b[32m  ✓ \u001b[39m\u001b[90mFFTW\u001b[39m\n",
      "\u001b[32m  ✓ \u001b[39m\u001b[90mFFTViews\u001b[39m\n",
      "\u001b[32m  ✓ \u001b[39m\u001b[90mColorTypes\u001b[39m\n",
      "\u001b[32m  ✓ \u001b[39m\u001b[90mColors\u001b[39m\n",
      "\u001b[32m  ✓ \u001b[39m\u001b[90mGraphics\u001b[39m\n",
      "\u001b[32m  ✓ \u001b[39m\u001b[90mColorVectorSpace\u001b[39m\n",
      "\u001b[32m  ✓ \u001b[39m\u001b[90mImageCore\u001b[39m\n",
      "\u001b[32m  ✓ \u001b[39m\u001b[90mImageShow\u001b[39m\n",
      "\u001b[32m  ✓ \u001b[39m\u001b[90mImageMorphology\u001b[39m\n",
      "\u001b[32m  ✓ \u001b[39m\u001b[90mImageAxes\u001b[39m\n",
      "\u001b[32m  ✓ \u001b[39m\u001b[90mImageFiltering\u001b[39m\n",
      "\u001b[32m  ✓ \u001b[39m\u001b[90mImageDistances\u001b[39m\n",
      "\u001b[32m  ✓ \u001b[39m\u001b[90mImageMetadata\u001b[39m\n",
      "\u001b[32m  ✓ \u001b[39m\u001b[90mImageQualityIndexes\u001b[39m\n",
      "\u001b[91m  ✗ \u001b[39m\u001b[90mImageTransformations\u001b[39m\n",
      "\u001b[91m  ✗ \u001b[39m\u001b[90mImageContrastAdjustment\u001b[39m\n",
      "\u001b[91m  ✗ \u001b[39mImages\n",
      "\u001b[91m  ✗ \u001b[39mLarCongruence\n",
      "  20 dependencies successfully precompiled in 49 seconds (64 already precompiled)\n",
      "  \u001b[91m6\u001b[39m dependencies errored. To see a full report either run `import Pkg; Pkg.precompile()` or load the packages\n",
      "┌ Info: Precompiling Images [916415d5-f1e6-5110-898d-aaa5f9f070e0]\n",
      "└ @ Base loading.jl:1423\n",
      "\u001b[91m\u001b[1mERROR: \u001b[22m\u001b[39mLoadError: TypeError: in <:, expected Type, got Vararg\n",
      "Stacktrace:\n",
      "  [1] \u001b[0m\u001b[1m#s10#5\u001b[22m\n",
      "\u001b[90m    @ \u001b[39m\u001b[90m~/.julia/packages/StaticArrays/1g9bq/src/\u001b[39m\u001b[90m\u001b[4mutil.jl:20\u001b[24m\u001b[39m\u001b[90m [inlined]\u001b[39m\n",
      "  [2] \u001b[0m\u001b[1mvar\"#s10#5\"\u001b[22m\u001b[0m\u001b[1m(\u001b[22m\u001b[90mT\u001b[39m::\u001b[0mAny, ::\u001b[0mAny, \u001b[90m#unused#\u001b[39m::\u001b[0mAny\u001b[0m\u001b[1m)\u001b[22m\n",
      "\u001b[90m    @ \u001b[39m\u001b[35mStaticArrays\u001b[39m \u001b[90m./\u001b[39m\u001b[90m\u001b[4mnone:0\u001b[24m\u001b[39m\n",
      "  [3] \u001b[0m\u001b[1m(::Core.GeneratedFunctionStub)\u001b[22m\u001b[0m\u001b[1m(\u001b[22m::\u001b[0mAny, ::\u001b[0mVararg\u001b[90m{Any}\u001b[39m\u001b[0m\u001b[1m)\u001b[22m\n",
      "\u001b[90m    @ \u001b[39m\u001b[90mCore\u001b[39m \u001b[90m./\u001b[39m\u001b[90m\u001b[4mboot.jl:580\u001b[24m\u001b[39m\n",
      "  [4] \u001b[0m\u001b[1mmacro expansion\u001b[22m\n",
      "\u001b[90m    @ \u001b[39m\u001b[90m~/.julia/packages/StaticArrays/1g9bq/src/\u001b[39m\u001b[90m\u001b[4mSArray.jl:49\u001b[24m\u001b[39m\u001b[90m [inlined]\u001b[39m\n",
      "  [5] (\u001b[0m\u001b[1mStaticArrays.SArray{Tuple{2, 8}}\u001b[22m)\u001b[0m\u001b[1m(\u001b[22m\u001b[90mx\u001b[39m::\u001b[0mTuple\u001b[90m{Int64, Int64, Float64, Float64, Int64, Int64, Float64, Float64, Int64, Int64, Float64, Float64, Int64, Int64, Float64, Float64}\u001b[39m\u001b[0m\u001b[1m)\u001b[22m\n",
      "\u001b[90m    @ \u001b[39m\u001b[35mStaticArrays\u001b[39m \u001b[90m~/.julia/packages/StaticArrays/1g9bq/src/\u001b[39m\u001b[90m\u001b[4mSArray.jl:46\u001b[24m\u001b[39m\n",
      "  [6] \u001b[0m\u001b[1m_SA_typed_hvcat\u001b[22m\u001b[0m\u001b[1m(\u001b[22m\u001b[90msa\u001b[39m::\u001b[0mType, \u001b[90mrows\u001b[39m::\u001b[0mNTuple\u001b[90m{8, Int64}\u001b[39m, \u001b[90mxs\u001b[39m::\u001b[0mTuple\u001b[90m{Int64, Int64, Float64, Float64, Int64, Int64, Float64, Float64, Int64, Int64, Float64, Float64, Int64, Int64, Float64, Float64}\u001b[39m\u001b[0m\u001b[1m)\u001b[22m\n",
      "\u001b[90m    @ \u001b[39m\u001b[35mStaticArrays\u001b[39m \u001b[90m~/.julia/packages/StaticArrays/1g9bq/src/\u001b[39m\u001b[90m\u001b[4minitializers.jl:56\u001b[24m\u001b[39m\n",
      "  [7] \u001b[0m\u001b[1mtyped_hvcat\u001b[22m\u001b[0m\u001b[1m(\u001b[22m::\u001b[0mType\u001b[90m{StaticArrays.SA}\u001b[39m, ::\u001b[0mNTuple\u001b[90m{8, Int64}\u001b[39m, ::\u001b[0mInt64, ::\u001b[0mVararg\u001b[90m{Number}\u001b[39m\u001b[0m\u001b[1m)\u001b[22m\n",
      "\u001b[90m    @ \u001b[39m\u001b[35mStaticArrays\u001b[39m \u001b[90m~/.julia/packages/StaticArrays/1g9bq/src/\u001b[39m\u001b[90m\u001b[4minitializers.jl:59\u001b[24m\u001b[39m\n",
      "  [8] top-level scope\n",
      "\u001b[90m    @ \u001b[39m\u001b[90m~/.julia/packages/Interpolations/y4lLj/src/lanczos/\u001b[39m\u001b[90m\u001b[4mlanczos_opencv.jl:65\u001b[24m\u001b[39m\n",
      "  [9] \u001b[0m\u001b[1minclude\u001b[22m\u001b[0m\u001b[1m(\u001b[22m\u001b[90mmod\u001b[39m::\u001b[0mModule, \u001b[90m_path\u001b[39m::\u001b[0mString\u001b[0m\u001b[1m)\u001b[22m\n",
      "\u001b[90m    @ \u001b[39m\u001b[90mBase\u001b[39m \u001b[90m./\u001b[39m\u001b[90m\u001b[4mBase.jl:418\u001b[24m\u001b[39m\n",
      " [10] \u001b[0m\u001b[1minclude\u001b[22m\u001b[0m\u001b[1m(\u001b[22m\u001b[90mx\u001b[39m::\u001b[0mString\u001b[0m\u001b[1m)\u001b[22m\n",
      "\u001b[90m    @ \u001b[39m\u001b[36mInterpolations\u001b[39m \u001b[90m~/.julia/packages/Interpolations/y4lLj/src/\u001b[39m\u001b[90m\u001b[4mInterpolations.jl:1\u001b[24m\u001b[39m\n",
      " [11] top-level scope\n",
      "\u001b[90m    @ \u001b[39m\u001b[90m~/.julia/packages/Interpolations/y4lLj/src/\u001b[39m\u001b[90m\u001b[4mInterpolations.jl:488\u001b[24m\u001b[39m\n",
      " [12] \u001b[0m\u001b[1minclude\u001b[22m\n",
      "\u001b[90m    @ \u001b[39m\u001b[90m./\u001b[39m\u001b[90m\u001b[4mBase.jl:418\u001b[24m\u001b[39m\u001b[90m [inlined]\u001b[39m\n"
     ]
    },
    {
     "name": "stderr",
     "output_type": "stream",
     "text": [
      " [13] \u001b[0m\u001b[1minclude_package_for_output\u001b[22m\u001b[0m\u001b[1m(\u001b[22m\u001b[90mpkg\u001b[39m::\u001b[0mBase.PkgId, \u001b[90minput\u001b[39m::\u001b[0mString, \u001b[90mdepot_path\u001b[39m::\u001b[0mVector\u001b[90m{String}\u001b[39m, \u001b[90mdl_load_path\u001b[39m::\u001b[0mVector\u001b[90m{String}\u001b[39m, \u001b[90mload_path\u001b[39m::\u001b[0mVector\u001b[90m{String}\u001b[39m, \u001b[90mconcrete_deps\u001b[39m::\u001b[0mVector\u001b[90m{Pair{Base.PkgId, UInt64}}\u001b[39m, \u001b[90msource\u001b[39m::\u001b[0mString\u001b[0m\u001b[1m)\u001b[22m\n",
      "\u001b[90m    @ \u001b[39m\u001b[90mBase\u001b[39m \u001b[90m./\u001b[39m\u001b[90m\u001b[4mloading.jl:1318\u001b[24m\u001b[39m\n",
      " [14] top-level scope\n",
      "\u001b[90m    @ \u001b[39m\u001b[90m\u001b[4mnone:1\u001b[24m\u001b[39m\n",
      " [15] \u001b[0m\u001b[1meval\u001b[22m\n",
      "\u001b[90m    @ \u001b[39m\u001b[90m./\u001b[39m\u001b[90m\u001b[4mboot.jl:373\u001b[24m\u001b[39m\u001b[90m [inlined]\u001b[39m\n",
      " [16] \u001b[0m\u001b[1meval\u001b[22m\u001b[0m\u001b[1m(\u001b[22m\u001b[90mx\u001b[39m::\u001b[0mExpr\u001b[0m\u001b[1m)\u001b[22m\n",
      "\u001b[90m    @ \u001b[39m\u001b[90mBase.MainInclude\u001b[39m \u001b[90m./\u001b[39m\u001b[90m\u001b[4mclient.jl:453\u001b[24m\u001b[39m\n",
      " [17] top-level scope\n",
      "\u001b[90m    @ \u001b[39m\u001b[90m\u001b[4mnone:1\u001b[24m\u001b[39m\n",
      "in expression starting at /Users/panemiele/.julia/packages/Interpolations/y4lLj/src/lanczos/lanczos_opencv.jl:65\n",
      "in expression starting at /Users/panemiele/.julia/packages/Interpolations/y4lLj/src/Interpolations.jl:1\n",
      "\u001b[91m\u001b[1mERROR: \u001b[22m\u001b[39mLoadError: Failed to precompile Interpolations [a98d9a8b-a2ab-59e6-89dd-64a1c18fca59] to /Users/panemiele/.julia/compiled/v1.7/Interpolations/jl_gnm6Xu.\n",
      "Stacktrace:\n",
      "  [1] \u001b[0m\u001b[1merror\u001b[22m\u001b[0m\u001b[1m(\u001b[22m\u001b[90ms\u001b[39m::\u001b[0mString\u001b[0m\u001b[1m)\u001b[22m\n",
      "\u001b[90m    @ \u001b[39m\u001b[90mBase\u001b[39m \u001b[90m./\u001b[39m\u001b[90m\u001b[4merror.jl:33\u001b[24m\u001b[39m\n",
      "  [2] \u001b[0m\u001b[1mcompilecache\u001b[22m\u001b[0m\u001b[1m(\u001b[22m\u001b[90mpkg\u001b[39m::\u001b[0mBase.PkgId, \u001b[90mpath\u001b[39m::\u001b[0mString, \u001b[90minternal_stderr\u001b[39m::\u001b[0mIO, \u001b[90minternal_stdout\u001b[39m::\u001b[0mIO, \u001b[90mignore_loaded_modules\u001b[39m::\u001b[0mBool\u001b[0m\u001b[1m)\u001b[22m\n",
      "\u001b[90m    @ \u001b[39m\u001b[90mBase\u001b[39m \u001b[90m./\u001b[39m\u001b[90m\u001b[4mloading.jl:1466\u001b[24m\u001b[39m\n",
      "  [3] \u001b[0m\u001b[1mcompilecache\u001b[22m\u001b[0m\u001b[1m(\u001b[22m\u001b[90mpkg\u001b[39m::\u001b[0mBase.PkgId, \u001b[90mpath\u001b[39m::\u001b[0mString\u001b[0m\u001b[1m)\u001b[22m\n",
      "\u001b[90m    @ \u001b[39m\u001b[90mBase\u001b[39m \u001b[90m./\u001b[39m\u001b[90m\u001b[4mloading.jl:1410\u001b[24m\u001b[39m\n",
      "  [4] \u001b[0m\u001b[1m_require\u001b[22m\u001b[0m\u001b[1m(\u001b[22m\u001b[90mpkg\u001b[39m::\u001b[0mBase.PkgId\u001b[0m\u001b[1m)\u001b[22m\n",
      "\u001b[90m    @ \u001b[39m\u001b[90mBase\u001b[39m \u001b[90m./\u001b[39m\u001b[90m\u001b[4mloading.jl:1120\u001b[24m\u001b[39m\n",
      "  [5] \u001b[0m\u001b[1mrequire\u001b[22m\u001b[0m\u001b[1m(\u001b[22m\u001b[90muuidkey\u001b[39m::\u001b[0mBase.PkgId\u001b[0m\u001b[1m)\u001b[22m\n",
      "\u001b[90m    @ \u001b[39m\u001b[90mBase\u001b[39m \u001b[90m./\u001b[39m\u001b[90m\u001b[4mloading.jl:1013\u001b[24m\u001b[39m\n",
      "  [6] \u001b[0m\u001b[1mrequire\u001b[22m\u001b[0m\u001b[1m(\u001b[22m\u001b[90minto\u001b[39m::\u001b[0mModule, \u001b[90mmod\u001b[39m::\u001b[0mSymbol\u001b[0m\u001b[1m)\u001b[22m\n",
      "\u001b[90m    @ \u001b[39m\u001b[90mBase\u001b[39m \u001b[90m./\u001b[39m\u001b[90m\u001b[4mloading.jl:997\u001b[24m\u001b[39m\n",
      "  [7] \u001b[0m\u001b[1minclude\u001b[22m\n",
      "\u001b[90m    @ \u001b[39m\u001b[90m./\u001b[39m\u001b[90m\u001b[4mBase.jl:418\u001b[24m\u001b[39m\u001b[90m [inlined]\u001b[39m\n",
      "  [8] \u001b[0m\u001b[1minclude_package_for_output\u001b[22m\u001b[0m\u001b[1m(\u001b[22m\u001b[90mpkg\u001b[39m::\u001b[0mBase.PkgId, \u001b[90minput\u001b[39m::\u001b[0mString, \u001b[90mdepot_path\u001b[39m::\u001b[0mVector\u001b[90m{String}\u001b[39m, \u001b[90mdl_load_path\u001b[39m::\u001b[0mVector\u001b[90m{String}\u001b[39m, \u001b[90mload_path\u001b[39m::\u001b[0mVector\u001b[90m{String}\u001b[39m, \u001b[90mconcrete_deps\u001b[39m::\u001b[0mVector\u001b[90m{Pair{Base.PkgId, UInt64}}\u001b[39m, \u001b[90msource\u001b[39m::\u001b[0mString\u001b[0m\u001b[1m)\u001b[22m\n",
      "\u001b[90m    @ \u001b[39m\u001b[90mBase\u001b[39m \u001b[90m./\u001b[39m\u001b[90m\u001b[4mloading.jl:1318\u001b[24m\u001b[39m\n",
      "  [9] top-level scope\n",
      "\u001b[90m    @ \u001b[39m\u001b[90m\u001b[4mnone:1\u001b[24m\u001b[39m\n",
      " [10] \u001b[0m\u001b[1meval\u001b[22m\n",
      "\u001b[90m    @ \u001b[39m\u001b[90m./\u001b[39m\u001b[90m\u001b[4mboot.jl:373\u001b[24m\u001b[39m\u001b[90m [inlined]\u001b[39m\n",
      " [11] \u001b[0m\u001b[1meval\u001b[22m\u001b[0m\u001b[1m(\u001b[22m\u001b[90mx\u001b[39m::\u001b[0mExpr\u001b[0m\u001b[1m)\u001b[22m\n",
      "\u001b[90m    @ \u001b[39m\u001b[90mBase.MainInclude\u001b[39m \u001b[90m./\u001b[39m\u001b[90m\u001b[4mclient.jl:453\u001b[24m\u001b[39m\n",
      " [12] top-level scope\n",
      "\u001b[90m    @ \u001b[39m\u001b[90m\u001b[4mnone:1\u001b[24m\u001b[39m\n",
      "in expression starting at /Users/panemiele/.julia/packages/ImageTransformations/LtoQp/src/ImageTransformations.jl:1\n",
      "\u001b[91m\u001b[1mERROR: \u001b[22m\u001b[39mLoadError: Failed to precompile ImageTransformations [02fcd773-0e25-5acc-982a-7f6622650795] to /Users/panemiele/.julia/compiled/v1.7/ImageTransformations/jl_V8ApVn.\n",
      "Stacktrace:\n",
      "  [1] \u001b[0m\u001b[1merror\u001b[22m\u001b[0m\u001b[1m(\u001b[22m\u001b[90ms\u001b[39m::\u001b[0mString\u001b[0m\u001b[1m)\u001b[22m\n",
      "\u001b[90m    @ \u001b[39m\u001b[90mBase\u001b[39m \u001b[90m./\u001b[39m\u001b[90m\u001b[4merror.jl:33\u001b[24m\u001b[39m\n",
      "  [2] \u001b[0m\u001b[1mcompilecache\u001b[22m\u001b[0m\u001b[1m(\u001b[22m\u001b[90mpkg\u001b[39m::\u001b[0mBase.PkgId, \u001b[90mpath\u001b[39m::\u001b[0mString, \u001b[90minternal_stderr\u001b[39m::\u001b[0mIO, \u001b[90minternal_stdout\u001b[39m::\u001b[0mIO, \u001b[90mignore_loaded_modules\u001b[39m::\u001b[0mBool\u001b[0m\u001b[1m)\u001b[22m\n",
      "\u001b[90m    @ \u001b[39m\u001b[90mBase\u001b[39m \u001b[90m./\u001b[39m\u001b[90m\u001b[4mloading.jl:1466\u001b[24m\u001b[39m\n",
      "  [3] \u001b[0m\u001b[1mcompilecache\u001b[22m\u001b[0m\u001b[1m(\u001b[22m\u001b[90mpkg\u001b[39m::\u001b[0mBase.PkgId, \u001b[90mpath\u001b[39m::\u001b[0mString\u001b[0m\u001b[1m)\u001b[22m\n",
      "\u001b[90m    @ \u001b[39m\u001b[90mBase\u001b[39m \u001b[90m./\u001b[39m\u001b[90m\u001b[4mloading.jl:1410\u001b[24m\u001b[39m\n",
      "  [4] \u001b[0m\u001b[1m_require\u001b[22m\u001b[0m\u001b[1m(\u001b[22m\u001b[90mpkg\u001b[39m::\u001b[0mBase.PkgId\u001b[0m\u001b[1m)\u001b[22m\n",
      "\u001b[90m    @ \u001b[39m\u001b[90mBase\u001b[39m \u001b[90m./\u001b[39m\u001b[90m\u001b[4mloading.jl:1120\u001b[24m\u001b[39m\n",
      "  [5] \u001b[0m\u001b[1mrequire\u001b[22m\u001b[0m\u001b[1m(\u001b[22m\u001b[90muuidkey\u001b[39m::\u001b[0mBase.PkgId\u001b[0m\u001b[1m)\u001b[22m\n",
      "\u001b[90m    @ \u001b[39m\u001b[90mBase\u001b[39m \u001b[90m./\u001b[39m\u001b[90m\u001b[4mloading.jl:1013\u001b[24m\u001b[39m\n",
      "  [6] \u001b[0m\u001b[1mrequire\u001b[22m\u001b[0m\u001b[1m(\u001b[22m\u001b[90minto\u001b[39m::\u001b[0mModule, \u001b[90mmod\u001b[39m::\u001b[0mSymbol\u001b[0m\u001b[1m)\u001b[22m\n",
      "\u001b[90m    @ \u001b[39m\u001b[90mBase\u001b[39m \u001b[90m./\u001b[39m\u001b[90m\u001b[4mloading.jl:997\u001b[24m\u001b[39m\n",
      "  [7] \u001b[0m\u001b[1minclude\u001b[22m\n",
      "\u001b[90m    @ \u001b[39m\u001b[90m./\u001b[39m\u001b[90m\u001b[4mBase.jl:418\u001b[24m\u001b[39m\u001b[90m [inlined]\u001b[39m\n",
      "  [8] \u001b[0m\u001b[1minclude_package_for_output\u001b[22m\u001b[0m\u001b[1m(\u001b[22m\u001b[90mpkg\u001b[39m::\u001b[0mBase.PkgId, \u001b[90minput\u001b[39m::\u001b[0mString, \u001b[90mdepot_path\u001b[39m::\u001b[0mVector\u001b[90m{String}\u001b[39m, \u001b[90mdl_load_path\u001b[39m::\u001b[0mVector\u001b[90m{String}\u001b[39m, \u001b[90mload_path\u001b[39m::\u001b[0mVector\u001b[90m{String}\u001b[39m, \u001b[90mconcrete_deps\u001b[39m::\u001b[0mVector\u001b[90m{Pair{Base.PkgId, UInt64}}\u001b[39m, \u001b[90msource\u001b[39m::\u001b[0mNothing\u001b[0m\u001b[1m)\u001b[22m\n",
      "\u001b[90m    @ \u001b[39m\u001b[90mBase\u001b[39m \u001b[90m./\u001b[39m\u001b[90m\u001b[4mloading.jl:1318\u001b[24m\u001b[39m\n",
      "  [9] top-level scope\n",
      "\u001b[90m    @ \u001b[39m\u001b[90m\u001b[4mnone:1\u001b[24m\u001b[39m\n",
      " [10] \u001b[0m\u001b[1meval\u001b[22m\n",
      "\u001b[90m    @ \u001b[39m\u001b[90m./\u001b[39m\u001b[90m\u001b[4mboot.jl:373\u001b[24m\u001b[39m\u001b[90m [inlined]\u001b[39m\n",
      " [11] \u001b[0m\u001b[1meval\u001b[22m\u001b[0m\u001b[1m(\u001b[22m\u001b[90mx\u001b[39m::\u001b[0mExpr\u001b[0m\u001b[1m)\u001b[22m\n",
      "\u001b[90m    @ \u001b[39m\u001b[90mBase.MainInclude\u001b[39m \u001b[90m./\u001b[39m\u001b[90m\u001b[4mclient.jl:453\u001b[24m\u001b[39m\n",
      " [12] top-level scope\n",
      "\u001b[90m    @ \u001b[39m\u001b[90m\u001b[4mnone:1\u001b[24m\u001b[39m\n",
      "in expression starting at /Users/panemiele/.julia/packages/Images/ILl34/src/Images.jl:3\n"
     ]
    },
    {
     "ename": "LoadError",
     "evalue": "Failed to precompile Images [916415d5-f1e6-5110-898d-aaa5f9f070e0] to /Users/panemiele/.julia/compiled/v1.7/Images/jl_IyNLjZ.",
     "output_type": "error",
     "traceback": [
      "Failed to precompile Images [916415d5-f1e6-5110-898d-aaa5f9f070e0] to /Users/panemiele/.julia/compiled/v1.7/Images/jl_IyNLjZ.",
      "",
      "Stacktrace:",
      " [1] error(s::String)",
      "   @ Base ./error.jl:33",
      " [2] compilecache(pkg::Base.PkgId, path::String, internal_stderr::IO, internal_stdout::IO, ignore_loaded_modules::Bool)",
      "   @ Base ./loading.jl:1466",
      " [3] compilecache(pkg::Base.PkgId, path::String)",
      "   @ Base ./loading.jl:1410",
      " [4] _require(pkg::Base.PkgId)",
      "   @ Base ./loading.jl:1120",
      " [5] require(uuidkey::Base.PkgId)",
      "   @ Base ./loading.jl:1013",
      " [6] require(into::Module, mod::Symbol)",
      "   @ Base ./loading.jl:997",
      " [7] eval",
      "   @ ./boot.jl:373 [inlined]",
      " [8] include_string(mapexpr::typeof(REPL.softscope), mod::Module, code::String, filename::String)",
      "   @ Base ./loading.jl:1196"
     ]
    }
   ],
   "source": [
    "import Pkg;\n",
    "Pkg.add(\"Images\")"
   ]
  },
  {
   "cell_type": "code",
   "execution_count": 22,
   "id": "1d8e6aa1",
   "metadata": {},
   "outputs": [
    {
     "name": "stderr",
     "output_type": "stream",
     "text": [
      "┌ Info: Precompiling Images [916415d5-f1e6-5110-898d-aaa5f9f070e0]\n",
      "└ @ Base loading.jl:1423\n",
      "\u001b[91m\u001b[1mERROR: \u001b[22m\u001b[39mLoadError: TypeError: in <:, expected Type, got Vararg\n",
      "Stacktrace:\n",
      "  [1] \u001b[0m\u001b[1m#s10#5\u001b[22m\n",
      "\u001b[90m    @ \u001b[39m\u001b[90m~/.julia/packages/StaticArrays/1g9bq/src/\u001b[39m\u001b[90m\u001b[4mutil.jl:20\u001b[24m\u001b[39m\u001b[90m [inlined]\u001b[39m\n",
      "  [2] \u001b[0m\u001b[1mvar\"#s10#5\"\u001b[22m\u001b[0m\u001b[1m(\u001b[22m\u001b[90mT\u001b[39m::\u001b[0mAny, ::\u001b[0mAny, \u001b[90m#unused#\u001b[39m::\u001b[0mAny\u001b[0m\u001b[1m)\u001b[22m\n",
      "\u001b[90m    @ \u001b[39m\u001b[35mStaticArrays\u001b[39m \u001b[90m./\u001b[39m\u001b[90m\u001b[4mnone:0\u001b[24m\u001b[39m\n",
      "  [3] \u001b[0m\u001b[1m(::Core.GeneratedFunctionStub)\u001b[22m\u001b[0m\u001b[1m(\u001b[22m::\u001b[0mAny, ::\u001b[0mVararg\u001b[90m{Any}\u001b[39m\u001b[0m\u001b[1m)\u001b[22m\n",
      "\u001b[90m    @ \u001b[39m\u001b[90mCore\u001b[39m \u001b[90m./\u001b[39m\u001b[90m\u001b[4mboot.jl:580\u001b[24m\u001b[39m\n",
      "  [4] \u001b[0m\u001b[1mmacro expansion\u001b[22m\n",
      "\u001b[90m    @ \u001b[39m\u001b[90m~/.julia/packages/StaticArrays/1g9bq/src/\u001b[39m\u001b[90m\u001b[4mSArray.jl:49\u001b[24m\u001b[39m\u001b[90m [inlined]\u001b[39m\n",
      "  [5] (\u001b[0m\u001b[1mStaticArrays.SArray{Tuple{2, 8}}\u001b[22m)\u001b[0m\u001b[1m(\u001b[22m\u001b[90mx\u001b[39m::\u001b[0mTuple\u001b[90m{Int64, Int64, Float64, Float64, Int64, Int64, Float64, Float64, Int64, Int64, Float64, Float64, Int64, Int64, Float64, Float64}\u001b[39m\u001b[0m\u001b[1m)\u001b[22m\n",
      "\u001b[90m    @ \u001b[39m\u001b[35mStaticArrays\u001b[39m \u001b[90m~/.julia/packages/StaticArrays/1g9bq/src/\u001b[39m\u001b[90m\u001b[4mSArray.jl:46\u001b[24m\u001b[39m\n",
      "  [6] \u001b[0m\u001b[1m_SA_typed_hvcat\u001b[22m\u001b[0m\u001b[1m(\u001b[22m\u001b[90msa\u001b[39m::\u001b[0mType, \u001b[90mrows\u001b[39m::\u001b[0mNTuple\u001b[90m{8, Int64}\u001b[39m, \u001b[90mxs\u001b[39m::\u001b[0mTuple\u001b[90m{Int64, Int64, Float64, Float64, Int64, Int64, Float64, Float64, Int64, Int64, Float64, Float64, Int64, Int64, Float64, Float64}\u001b[39m\u001b[0m\u001b[1m)\u001b[22m\n",
      "\u001b[90m    @ \u001b[39m\u001b[35mStaticArrays\u001b[39m \u001b[90m~/.julia/packages/StaticArrays/1g9bq/src/\u001b[39m\u001b[90m\u001b[4minitializers.jl:56\u001b[24m\u001b[39m\n",
      "  [7] \u001b[0m\u001b[1mtyped_hvcat\u001b[22m\u001b[0m\u001b[1m(\u001b[22m::\u001b[0mType\u001b[90m{StaticArrays.SA}\u001b[39m, ::\u001b[0mNTuple\u001b[90m{8, Int64}\u001b[39m, ::\u001b[0mInt64, ::\u001b[0mVararg\u001b[90m{Number}\u001b[39m\u001b[0m\u001b[1m)\u001b[22m\n",
      "\u001b[90m    @ \u001b[39m\u001b[35mStaticArrays\u001b[39m \u001b[90m~/.julia/packages/StaticArrays/1g9bq/src/\u001b[39m\u001b[90m\u001b[4minitializers.jl:59\u001b[24m\u001b[39m\n",
      "  [8] top-level scope\n",
      "\u001b[90m    @ \u001b[39m\u001b[90m~/.julia/packages/Interpolations/y4lLj/src/lanczos/\u001b[39m\u001b[90m\u001b[4mlanczos_opencv.jl:65\u001b[24m\u001b[39m\n",
      "  [9] \u001b[0m\u001b[1minclude\u001b[22m\u001b[0m\u001b[1m(\u001b[22m\u001b[90mmod\u001b[39m::\u001b[0mModule, \u001b[90m_path\u001b[39m::\u001b[0mString\u001b[0m\u001b[1m)\u001b[22m\n",
      "\u001b[90m    @ \u001b[39m\u001b[90mBase\u001b[39m \u001b[90m./\u001b[39m\u001b[90m\u001b[4mBase.jl:418\u001b[24m\u001b[39m\n",
      " [10] \u001b[0m\u001b[1minclude\u001b[22m\u001b[0m\u001b[1m(\u001b[22m\u001b[90mx\u001b[39m::\u001b[0mString\u001b[0m\u001b[1m)\u001b[22m\n",
      "\u001b[90m    @ \u001b[39m\u001b[36mInterpolations\u001b[39m \u001b[90m~/.julia/packages/Interpolations/y4lLj/src/\u001b[39m\u001b[90m\u001b[4mInterpolations.jl:1\u001b[24m\u001b[39m\n",
      " [11] top-level scope\n",
      "\u001b[90m    @ \u001b[39m\u001b[90m~/.julia/packages/Interpolations/y4lLj/src/\u001b[39m\u001b[90m\u001b[4mInterpolations.jl:488\u001b[24m\u001b[39m\n",
      " [12] \u001b[0m\u001b[1minclude\u001b[22m\n",
      "\u001b[90m    @ \u001b[39m\u001b[90m./\u001b[39m\u001b[90m\u001b[4mBase.jl:418\u001b[24m\u001b[39m\u001b[90m [inlined]\u001b[39m\n",
      " [13] \u001b[0m\u001b[1minclude_package_for_output\u001b[22m\u001b[0m\u001b[1m(\u001b[22m\u001b[90mpkg\u001b[39m::\u001b[0mBase.PkgId, \u001b[90minput\u001b[39m::\u001b[0mString, \u001b[90mdepot_path\u001b[39m::\u001b[0mVector\u001b[90m{String}\u001b[39m, \u001b[90mdl_load_path\u001b[39m::\u001b[0mVector\u001b[90m{String}\u001b[39m, \u001b[90mload_path\u001b[39m::\u001b[0mVector\u001b[90m{String}\u001b[39m, \u001b[90mconcrete_deps\u001b[39m::\u001b[0mVector\u001b[90m{Pair{Base.PkgId, UInt64}}\u001b[39m, \u001b[90msource\u001b[39m::\u001b[0mString\u001b[0m\u001b[1m)\u001b[22m\n",
      "\u001b[90m    @ \u001b[39m\u001b[90mBase\u001b[39m \u001b[90m./\u001b[39m\u001b[90m\u001b[4mloading.jl:1318\u001b[24m\u001b[39m\n",
      " [14] top-level scope\n",
      "\u001b[90m    @ \u001b[39m\u001b[90m\u001b[4mnone:1\u001b[24m\u001b[39m\n",
      " [15] \u001b[0m\u001b[1meval\u001b[22m\n",
      "\u001b[90m    @ \u001b[39m\u001b[90m./\u001b[39m\u001b[90m\u001b[4mboot.jl:373\u001b[24m\u001b[39m\u001b[90m [inlined]\u001b[39m\n",
      " [16] \u001b[0m\u001b[1meval\u001b[22m\u001b[0m\u001b[1m(\u001b[22m\u001b[90mx\u001b[39m::\u001b[0mExpr\u001b[0m\u001b[1m)\u001b[22m\n",
      "\u001b[90m    @ \u001b[39m\u001b[90mBase.MainInclude\u001b[39m \u001b[90m./\u001b[39m\u001b[90m\u001b[4mclient.jl:453\u001b[24m\u001b[39m\n",
      " [17] top-level scope\n",
      "\u001b[90m    @ \u001b[39m\u001b[90m\u001b[4mnone:1\u001b[24m\u001b[39m\n",
      "in expression starting at /Users/panemiele/.julia/packages/Interpolations/y4lLj/src/lanczos/lanczos_opencv.jl:65\n",
      "in expression starting at /Users/panemiele/.julia/packages/Interpolations/y4lLj/src/Interpolations.jl:1\n",
      "\u001b[91m\u001b[1mERROR: \u001b[22m\u001b[39mLoadError: Failed to precompile Interpolations [a98d9a8b-a2ab-59e6-89dd-64a1c18fca59] to /Users/panemiele/.julia/compiled/v1.7/Interpolations/jl_A9BUqs.\n",
      "Stacktrace:\n",
      "  [1] \u001b[0m\u001b[1merror\u001b[22m\u001b[0m\u001b[1m(\u001b[22m\u001b[90ms\u001b[39m::\u001b[0mString\u001b[0m\u001b[1m)\u001b[22m\n",
      "\u001b[90m    @ \u001b[39m\u001b[90mBase\u001b[39m \u001b[90m./\u001b[39m\u001b[90m\u001b[4merror.jl:33\u001b[24m\u001b[39m\n",
      "  [2] \u001b[0m\u001b[1mcompilecache\u001b[22m\u001b[0m\u001b[1m(\u001b[22m\u001b[90mpkg\u001b[39m::\u001b[0mBase.PkgId, \u001b[90mpath\u001b[39m::\u001b[0mString, \u001b[90minternal_stderr\u001b[39m::\u001b[0mIO, \u001b[90minternal_stdout\u001b[39m::\u001b[0mIO, \u001b[90mignore_loaded_modules\u001b[39m::\u001b[0mBool\u001b[0m\u001b[1m)\u001b[22m\n",
      "\u001b[90m    @ \u001b[39m\u001b[90mBase\u001b[39m \u001b[90m./\u001b[39m\u001b[90m\u001b[4mloading.jl:1466\u001b[24m\u001b[39m\n",
      "  [3] \u001b[0m\u001b[1mcompilecache\u001b[22m\u001b[0m\u001b[1m(\u001b[22m\u001b[90mpkg\u001b[39m::\u001b[0mBase.PkgId, \u001b[90mpath\u001b[39m::\u001b[0mString\u001b[0m\u001b[1m)\u001b[22m\n",
      "\u001b[90m    @ \u001b[39m\u001b[90mBase\u001b[39m \u001b[90m./\u001b[39m\u001b[90m\u001b[4mloading.jl:1410\u001b[24m\u001b[39m\n",
      "  [4] \u001b[0m\u001b[1m_require\u001b[22m\u001b[0m\u001b[1m(\u001b[22m\u001b[90mpkg\u001b[39m::\u001b[0mBase.PkgId\u001b[0m\u001b[1m)\u001b[22m\n",
      "\u001b[90m    @ \u001b[39m\u001b[90mBase\u001b[39m \u001b[90m./\u001b[39m\u001b[90m\u001b[4mloading.jl:1120\u001b[24m\u001b[39m\n",
      "  [5] \u001b[0m\u001b[1mrequire\u001b[22m\u001b[0m\u001b[1m(\u001b[22m\u001b[90muuidkey\u001b[39m::\u001b[0mBase.PkgId\u001b[0m\u001b[1m)\u001b[22m\n",
      "\u001b[90m    @ \u001b[39m\u001b[90mBase\u001b[39m \u001b[90m./\u001b[39m\u001b[90m\u001b[4mloading.jl:1013\u001b[24m\u001b[39m\n",
      "  [6] \u001b[0m\u001b[1mrequire\u001b[22m\u001b[0m\u001b[1m(\u001b[22m\u001b[90minto\u001b[39m::\u001b[0mModule, \u001b[90mmod\u001b[39m::\u001b[0mSymbol\u001b[0m\u001b[1m)\u001b[22m\n",
      "\u001b[90m    @ \u001b[39m\u001b[90mBase\u001b[39m \u001b[90m./\u001b[39m\u001b[90m\u001b[4mloading.jl:997\u001b[24m\u001b[39m\n",
      "  [7] \u001b[0m\u001b[1minclude\u001b[22m\n",
      "\u001b[90m    @ \u001b[39m\u001b[90m./\u001b[39m\u001b[90m\u001b[4mBase.jl:418\u001b[24m\u001b[39m\u001b[90m [inlined]\u001b[39m\n",
      "  [8] \u001b[0m\u001b[1minclude_package_for_output\u001b[22m\u001b[0m\u001b[1m(\u001b[22m\u001b[90mpkg\u001b[39m::\u001b[0mBase.PkgId, \u001b[90minput\u001b[39m::\u001b[0mString, \u001b[90mdepot_path\u001b[39m::\u001b[0mVector\u001b[90m{String}\u001b[39m, \u001b[90mdl_load_path\u001b[39m::\u001b[0mVector\u001b[90m{String}\u001b[39m, \u001b[90mload_path\u001b[39m::\u001b[0mVector\u001b[90m{String}\u001b[39m, \u001b[90mconcrete_deps\u001b[39m::\u001b[0mVector\u001b[90m{Pair{Base.PkgId, UInt64}}\u001b[39m, \u001b[90msource\u001b[39m::\u001b[0mString\u001b[0m\u001b[1m)\u001b[22m\n",
      "\u001b[90m    @ \u001b[39m\u001b[90mBase\u001b[39m \u001b[90m./\u001b[39m\u001b[90m\u001b[4mloading.jl:1318\u001b[24m\u001b[39m\n",
      "  [9] top-level scope\n",
      "\u001b[90m    @ \u001b[39m\u001b[90m\u001b[4mnone:1\u001b[24m\u001b[39m\n",
      " [10] \u001b[0m\u001b[1meval\u001b[22m\n",
      "\u001b[90m    @ \u001b[39m\u001b[90m./\u001b[39m\u001b[90m\u001b[4mboot.jl:373\u001b[24m\u001b[39m\u001b[90m [inlined]\u001b[39m\n",
      " [11] \u001b[0m\u001b[1meval\u001b[22m\u001b[0m\u001b[1m(\u001b[22m\u001b[90mx\u001b[39m::\u001b[0mExpr\u001b[0m\u001b[1m)\u001b[22m\n",
      "\u001b[90m    @ \u001b[39m\u001b[90mBase.MainInclude\u001b[39m \u001b[90m./\u001b[39m\u001b[90m\u001b[4mclient.jl:453\u001b[24m\u001b[39m\n",
      " [12] top-level scope\n",
      "\u001b[90m    @ \u001b[39m\u001b[90m\u001b[4mnone:1\u001b[24m\u001b[39m\n",
      "in expression starting at /Users/panemiele/.julia/packages/ImageTransformations/LtoQp/src/ImageTransformations.jl:1\n",
      "\u001b[91m\u001b[1mERROR: \u001b[22m\u001b[39mLoadError: Failed to precompile ImageTransformations [02fcd773-0e25-5acc-982a-7f6622650795] to /Users/panemiele/.julia/compiled/v1.7/ImageTransformations/jl_nZNF4C.\n",
      "Stacktrace:\n",
      "  [1] \u001b[0m\u001b[1merror\u001b[22m\u001b[0m\u001b[1m(\u001b[22m\u001b[90ms\u001b[39m::\u001b[0mString\u001b[0m\u001b[1m)\u001b[22m\n",
      "\u001b[90m    @ \u001b[39m\u001b[90mBase\u001b[39m \u001b[90m./\u001b[39m\u001b[90m\u001b[4merror.jl:33\u001b[24m\u001b[39m\n",
      "  [2] \u001b[0m\u001b[1mcompilecache\u001b[22m\u001b[0m\u001b[1m(\u001b[22m\u001b[90mpkg\u001b[39m::\u001b[0mBase.PkgId, \u001b[90mpath\u001b[39m::\u001b[0mString, \u001b[90minternal_stderr\u001b[39m::\u001b[0mIO, \u001b[90minternal_stdout\u001b[39m::\u001b[0mIO, \u001b[90mignore_loaded_modules\u001b[39m::\u001b[0mBool\u001b[0m\u001b[1m)\u001b[22m\n",
      "\u001b[90m    @ \u001b[39m\u001b[90mBase\u001b[39m \u001b[90m./\u001b[39m\u001b[90m\u001b[4mloading.jl:1466\u001b[24m\u001b[39m\n",
      "  [3] \u001b[0m\u001b[1mcompilecache\u001b[22m\u001b[0m\u001b[1m(\u001b[22m\u001b[90mpkg\u001b[39m::\u001b[0mBase.PkgId, \u001b[90mpath\u001b[39m::\u001b[0mString\u001b[0m\u001b[1m)\u001b[22m\n",
      "\u001b[90m    @ \u001b[39m\u001b[90mBase\u001b[39m \u001b[90m./\u001b[39m\u001b[90m\u001b[4mloading.jl:1410\u001b[24m\u001b[39m\n",
      "  [4] \u001b[0m\u001b[1m_require\u001b[22m\u001b[0m\u001b[1m(\u001b[22m\u001b[90mpkg\u001b[39m::\u001b[0mBase.PkgId\u001b[0m\u001b[1m)\u001b[22m\n",
      "\u001b[90m    @ \u001b[39m\u001b[90mBase\u001b[39m \u001b[90m./\u001b[39m\u001b[90m\u001b[4mloading.jl:1120\u001b[24m\u001b[39m\n",
      "  [5] \u001b[0m\u001b[1mrequire\u001b[22m\u001b[0m\u001b[1m(\u001b[22m\u001b[90muuidkey\u001b[39m::\u001b[0mBase.PkgId\u001b[0m\u001b[1m)\u001b[22m\n",
      "\u001b[90m    @ \u001b[39m\u001b[90mBase\u001b[39m \u001b[90m./\u001b[39m\u001b[90m\u001b[4mloading.jl:1013\u001b[24m\u001b[39m\n",
      "  [6] \u001b[0m\u001b[1mrequire\u001b[22m\u001b[0m\u001b[1m(\u001b[22m\u001b[90minto\u001b[39m::\u001b[0mModule, \u001b[90mmod\u001b[39m::\u001b[0mSymbol\u001b[0m\u001b[1m)\u001b[22m\n",
      "\u001b[90m    @ \u001b[39m\u001b[90mBase\u001b[39m \u001b[90m./\u001b[39m\u001b[90m\u001b[4mloading.jl:997\u001b[24m\u001b[39m\n",
      "  [7] \u001b[0m\u001b[1minclude\u001b[22m\n",
      "\u001b[90m    @ \u001b[39m\u001b[90m./\u001b[39m\u001b[90m\u001b[4mBase.jl:418\u001b[24m\u001b[39m\u001b[90m [inlined]\u001b[39m\n",
      "  [8] \u001b[0m\u001b[1minclude_package_for_output\u001b[22m\u001b[0m\u001b[1m(\u001b[22m\u001b[90mpkg\u001b[39m::\u001b[0mBase.PkgId, \u001b[90minput\u001b[39m::\u001b[0mString, \u001b[90mdepot_path\u001b[39m::\u001b[0mVector\u001b[90m{String}\u001b[39m, \u001b[90mdl_load_path\u001b[39m::\u001b[0mVector\u001b[90m{String}\u001b[39m, \u001b[90mload_path\u001b[39m::\u001b[0mVector\u001b[90m{String}\u001b[39m, \u001b[90mconcrete_deps\u001b[39m::\u001b[0mVector\u001b[90m{Pair{Base.PkgId, UInt64}}\u001b[39m, \u001b[90msource\u001b[39m::\u001b[0mNothing\u001b[0m\u001b[1m)\u001b[22m\n",
      "\u001b[90m    @ \u001b[39m\u001b[90mBase\u001b[39m \u001b[90m./\u001b[39m\u001b[90m\u001b[4mloading.jl:1318\u001b[24m\u001b[39m\n",
      "  [9] top-level scope\n",
      "\u001b[90m    @ \u001b[39m\u001b[90m\u001b[4mnone:1\u001b[24m\u001b[39m\n",
      " [10] \u001b[0m\u001b[1meval\u001b[22m\n",
      "\u001b[90m    @ \u001b[39m\u001b[90m./\u001b[39m\u001b[90m\u001b[4mboot.jl:373\u001b[24m\u001b[39m\u001b[90m [inlined]\u001b[39m\n",
      " [11] \u001b[0m\u001b[1meval\u001b[22m\u001b[0m\u001b[1m(\u001b[22m\u001b[90mx\u001b[39m::\u001b[0mExpr\u001b[0m\u001b[1m)\u001b[22m\n",
      "\u001b[90m    @ \u001b[39m\u001b[90mBase.MainInclude\u001b[39m \u001b[90m./\u001b[39m\u001b[90m\u001b[4mclient.jl:453\u001b[24m\u001b[39m\n",
      " [12] top-level scope\n",
      "\u001b[90m    @ \u001b[39m\u001b[90m\u001b[4mnone:1\u001b[24m\u001b[39m\n",
      "in expression starting at /Users/panemiele/.julia/packages/Images/ILl34/src/Images.jl:3\n"
     ]
    },
    {
     "ename": "LoadError",
     "evalue": "Failed to precompile Images [916415d5-f1e6-5110-898d-aaa5f9f070e0] to /Users/panemiele/.julia/compiled/v1.7/Images/jl_sK9EKw.",
     "output_type": "error",
     "traceback": [
      "Failed to precompile Images [916415d5-f1e6-5110-898d-aaa5f9f070e0] to /Users/panemiele/.julia/compiled/v1.7/Images/jl_sK9EKw.",
      "",
      "Stacktrace:",
      " [1] error(s::String)",
      "   @ Base ./error.jl:33",
      " [2] compilecache(pkg::Base.PkgId, path::String, internal_stderr::IO, internal_stdout::IO, ignore_loaded_modules::Bool)",
      "   @ Base ./loading.jl:1466",
      " [3] compilecache(pkg::Base.PkgId, path::String)",
      "   @ Base ./loading.jl:1410",
      " [4] _require(pkg::Base.PkgId)",
      "   @ Base ./loading.jl:1120",
      " [5] require(uuidkey::Base.PkgId)",
      "   @ Base ./loading.jl:1013",
      " [6] require(into::Module, mod::Symbol)",
      "   @ Base ./loading.jl:997",
      " [7] eval",
      "   @ ./boot.jl:373 [inlined]",
      " [8] include_string(mapexpr::typeof(REPL.softscope), mod::Module, code::String, filename::String)",
      "   @ Base ./loading.jl:1196"
     ]
    }
   ],
   "source": [
    "using Images\n",
    "img = Images"
   ]
  },
  {
   "cell_type": "code",
   "execution_count": 9,
   "id": "eda8ed11-43f5-4126-8dc8-56cc1470ac81",
   "metadata": {},
   "outputs": [
    {
     "data": {
      "text/plain": [
       "chainCongruenceAA (generic function with 1 method)"
      ]
     },
     "execution_count": 9,
     "metadata": {},
     "output_type": "execute_result"
    }
   ],
   "source": [
    "function vertCongruence(W)\n",
    "\terr, i, todelete, vclasses = 10^-5.2,1,[], []\n",
    "\tverts = convert(Lar.Points, W')\n",
    "\tkdtree = NearestNeighbors.KDTree(verts)\n",
    "\tnewverts = zeros(Int, size(verts,2))\n",
    "\tfor vi in 1:size(verts,2)\n",
    "\t\tif !(vi in todelete)\n",
    "\t\t\tnearvs = NearestNeighbors.inrange(kdtree, verts[:,vi], err)\n",
    "\t\t\tpush!(vclasses,nearvs)\n",
    "\t\t\tnewverts[nearvs] .= i\n",
    "\t\t\tnearvs = setdiff(nearvs, vi)\n",
    "\t\t\ttodelete = union(todelete, nearvs)\n",
    "\t\t\ti += 1\n",
    "\t\tend\n",
    "\tend\n",
    "\tV = zeros(3,length(vclasses))\n",
    "\tfor (k,class) in enumerate(vclasses)\n",
    "\t\t\tV[:,k] = sum(W[class,:],dims=1)/length(class)\n",
    "\tend\n",
    "\treturn V, vclasses\n",
    "end\n",
    "\n",
    "\n",
    "function cellCongruenceAA(Delta,inclasses)\n",
    "\tcellarray = Lar.cop2lar(Delta)\n",
    "\tnew_e = Array{Int64,1}(undef,size(Delta,2))\n",
    "\tfor (k,class) in enumerate(inclasses)\n",
    "\t\tfor e in class\n",
    "\t\t\tnew_e[e] = k\n",
    "\t\tend\n",
    "\tend\n",
    "  cells = [map(e->new_e[e], face) for face in cellarray]\n",
    "  outclasses = DefaultOrderedDict{Array{Int64,1},Array{Int64,1}}([])\n",
    "  for (k,face) in enumerate(cells)\n",
    "    if outclasses[face] == []\n",
    "    \toutclasses[face] = [k]\n",
    "    else\n",
    "    \tappend!(outclasses[face],[k])\n",
    "    end\n",
    "  end\n",
    "\tFEnew = sort(collect(keys(outclasses)))\n",
    "  outclasses = sort(collect(values(outclasses)))\n",
    "  return FEnew,outclasses\n",
    "end\n",
    "\n",
    "\n",
    "function chainCongruenceAA(W, T)\n",
    "\tV, vclasses = vertCongruence(W)\n",
    "\tEV, eclasses = cellCongruenceAA(T[1],vclasses)\n",
    "\tFE, fclasses = cellCongruenceAA(T[2],eclasses)\n",
    "\t#@show size(V,2) - size(EV,1) + size(FE,1)\n",
    "\treturn V,EV,FE\n",
    "end"
   ]
  },
  {
   "cell_type": "code",
   "execution_count": 10,
   "id": "046a1085-e86e-4161-bd73-f16b9e44cf49",
   "metadata": {},
   "outputs": [
    {
     "data": {
      "text/plain": [
       "2-element Vector{SparseMatrixCSC{Int8, Int64}}:\n",
       " sparse([1, 5, 9, 1, 6, 10, 2, 5, 11, 2  …  357, 351, 356, 358, 352, 355, 359, 352, 356, 360], [1, 1, 1, 2, 2, 2, 3, 3, 3, 4  …  237, 238, 238, 238, 239, 239, 239, 240, 240, 240], Int8[-1, -1, -1, 1, -1, -1, -1, 1, -1, 1  …  1, 1, -1, 1, -1, 1, 1, 1, 1, 1], 360, 240)\n",
       " sparse([1, 3, 1, 4, 2, 3, 2, 4, 1, 5  …  176, 180, 177, 179, 177, 180, 178, 179, 178, 180], [1, 1, 2, 2, 3, 3, 4, 4, 5, 5  …  356, 356, 357, 357, 358, 358, 359, 359, 360, 360], Int8[1, 1, -1, 1, 1, -1, -1, -1, -1, 1  …  1, -1, -1, -1, 1, -1, -1, 1, 1, 1], 180, 360)"
      ]
     },
     "execution_count": 10,
     "metadata": {},
     "output_type": "execute_result"
    }
   ],
   "source": [
    "V,EV,FV=Lar.randomcubes(30,.00001)\n",
    "\n",
    "W = convert(Lar.Points, V');\n",
    "cop_EV = Lar.coboundary_0(EV::Lar.Cells);\n",
    "cop_FE = Lar.coboundary_1(V, FV::Lar.Cells, EV::Lar.Cells);\n",
    "\n",
    "T = [cop_EV, cop_FE]"
   ]
  },
  {
   "cell_type": "markdown",
   "id": "97bed464",
   "metadata": {},
   "source": [
    "# Nove matrici di adiacenza/incidenza"
   ]
  },
  {
   "cell_type": "code",
   "execution_count": 12,
   "id": "e1cce554-0bb1-45ed-846e-1ac17b183fac",
   "metadata": {},
   "outputs": [
    {
     "data": {
      "text/plain": [
       "240-element Vector{Vector{Int64}}:\n",
       " [1]\n",
       " [2]\n",
       " [3]\n",
       " [4]\n",
       " [5]\n",
       " [6]\n",
       " [7]\n",
       " [8]\n",
       " [9]\n",
       " [10]\n",
       " [11]\n",
       " [12]\n",
       " [13]\n",
       " ⋮\n",
       " [229]\n",
       " [230]\n",
       " [231]\n",
       " [232]\n",
       " [233]\n",
       " [234]\n",
       " [235]\n",
       " [236]\n",
       " [237]\n",
       " [238]\n",
       " [239]\n",
       " [240]"
      ]
     },
     "execution_count": 12,
     "metadata": {},
     "output_type": "execute_result"
    }
   ],
   "source": [
    "VV = [[k] for k=1:size(V,2)]"
   ]
  },
  {
   "cell_type": "code",
   "execution_count": 23,
   "id": "5b35c2cd",
   "metadata": {},
   "outputs": [
    {
     "data": {
      "text/plain": [
       "360-element Vector{Vector{Int64}}:\n",
       " [1, 2]\n",
       " [3, 4]\n",
       " [5, 6]\n",
       " [7, 8]\n",
       " [1, 3]\n",
       " [2, 4]\n",
       " [5, 7]\n",
       " [6, 8]\n",
       " [1, 5]\n",
       " [2, 6]\n",
       " [3, 7]\n",
       " [4, 8]\n",
       " [9, 10]\n",
       " ⋮\n",
       " [233, 234]\n",
       " [235, 236]\n",
       " [237, 238]\n",
       " [239, 240]\n",
       " [233, 235]\n",
       " [234, 236]\n",
       " [237, 239]\n",
       " [238, 240]\n",
       " [233, 237]\n",
       " [234, 238]\n",
       " [235, 239]\n",
       " [236, 240]"
      ]
     },
     "execution_count": 23,
     "metadata": {},
     "output_type": "execute_result"
    }
   ],
   "source": [
    "EV"
   ]
  },
  {
   "cell_type": "code",
   "execution_count": 13,
   "id": "a41a4e1f-4c1c-462f-9d21-bd8e9d1d6b0c",
   "metadata": {},
   "outputs": [
    {
     "data": {
      "text/plain": [
       "1×360 adjoint(::Vector{Vector{Int64}}) with eltype LinearAlgebra.Adjoint{Int64, Vector{Int64}}:\n",
       " [1 2]  [3 4]  [5 6]  [7 8]  [1 3]  [2 4]  …  [234 238]  [235 239]  [236 240]"
      ]
     },
     "execution_count": 13,
     "metadata": {},
     "output_type": "execute_result"
    }
   ],
   "source": [
    "VE=EV'"
   ]
  },
  {
   "cell_type": "code",
   "execution_count": 24,
   "id": "4784ab73",
   "metadata": {},
   "outputs": [
    {
     "data": {
      "text/plain": [
       "180-element Vector{Vector{Int64}}:\n",
       " [1, 2, 3, 4]\n",
       " [5, 6, 7, 8]\n",
       " [1, 2, 5, 6]\n",
       " [3, 4, 7, 8]\n",
       " [1, 3, 5, 7]\n",
       " [2, 4, 6, 8]\n",
       " [9, 10, 11, 12]\n",
       " [13, 14, 15, 16]\n",
       " [9, 10, 13, 14]\n",
       " [11, 12, 15, 16]\n",
       " [9, 11, 13, 15]\n",
       " [10, 12, 14, 16]\n",
       " [17, 18, 19, 20]\n",
       " ⋮\n",
       " [225, 226, 227, 228]\n",
       " [229, 230, 231, 232]\n",
       " [225, 226, 229, 230]\n",
       " [227, 228, 231, 232]\n",
       " [225, 227, 229, 231]\n",
       " [226, 228, 230, 232]\n",
       " [233, 234, 235, 236]\n",
       " [237, 238, 239, 240]\n",
       " [233, 234, 237, 238]\n",
       " [235, 236, 239, 240]\n",
       " [233, 235, 237, 239]\n",
       " [234, 236, 238, 240]"
      ]
     },
     "execution_count": 24,
     "metadata": {},
     "output_type": "execute_result"
    }
   ],
   "source": [
    "FV"
   ]
  },
  {
   "cell_type": "code",
   "execution_count": 16,
   "id": "b0b79ae2-c950-4419-9e88-179f45f27f7c",
   "metadata": {},
   "outputs": [
    {
     "data": {
      "text/plain": [
       "1×180 adjoint(::Vector{Vector{Int64}}) with eltype LinearAlgebra.Adjoint{Int64, Vector{Int64}}:\n",
       " [1 2 3 4]  [5 6 7 8]  [1 2 5 6]  [3 4 7 8]  [1 3 5 7]  …  [234 236 238 240]"
      ]
     },
     "execution_count": 16,
     "metadata": {},
     "output_type": "execute_result"
    }
   ],
   "source": [
    "VF=FV'"
   ]
  },
  {
   "cell_type": "code",
   "execution_count": 14,
   "id": "8860b7c4",
   "metadata": {},
   "outputs": [
    {
     "data": {
      "text/plain": [
       "360×360 Matrix{Int64}:\n",
       "   5    11    17    23    7    10    19  …     707     710     713     716\n",
       "  11    25    39    53   15    22    43       1647    1654    1661    1668\n",
       "  17    39    61    83   23    34    67       2587    2598    2609    2620\n",
       "  23    53    83   113   31    46    91       3527    3542    3557    3572\n",
       "   7    15    23    31   10    14    26        944     948     952     956\n",
       "  10    22    34    46   14    20    38  …    1414    1420    1426    1432\n",
       "  19    43    67    91   26    38    74       2824    2836    2848    2860\n",
       "  22    50    78   106   30    44    86       3294    3308    3322    3336\n",
       "  11    23    35    47   16    22    40       1418    1424    1430    1436\n",
       "  14    30    46    62   20    28    52       1888    1896    1904    1912\n",
       "  17    37    57    77   24    34    64  …    2358    2368    2378    2388\n",
       "  20    44    68    92   28    40    76       2828    2840    2852    2864\n",
       "  29    67   105   143   39    58   115       4467    4486    4505    4524\n",
       "   ⋮                            ⋮        ⋱                          \n",
       " 701  1635  2569  3503  935  1402  2803     109747  110214  110681  111148\n",
       " 707  1649  2591  3533  943  1414  2827     110687  111158  111629  112100\n",
       " 713  1663  2613  3563  951  1426  2851  …  111627  112102  112577  113052\n",
       " 719  1677  2635  3593  959  1438  2875     112567  113046  113525  114004\n",
       " 703  1639  2575  3511  938  1406  2810     109984  110452  110920  111388\n",
       " 706  1646  2586  3526  942  1412  2822     110454  110924  111394  111864\n",
       " 715  1667  2619  3571  954  1430  2858     111864  112340  112816  113292\n",
       " 718  1674  2630  3586  958  1436  2870  …  112334  112812  113290  113768\n",
       " 707  1647  2587  3527  944  1414  2824     110458  110928  111398  111868\n",
       " 710  1654  2598  3542  948  1420  2836     110928  111400  111872  112344\n",
       " 713  1661  2609  3557  952  1426  2848     111398  111872  112346  112820\n",
       " 716  1668  2620  3572  956  1432  2860     111868  112344  112820  113296"
      ]
     },
     "execution_count": 14,
     "metadata": {},
     "output_type": "execute_result"
    }
   ],
   "source": [
    "EE = VE.*EV"
   ]
  },
  {
   "cell_type": "code",
   "execution_count": 18,
   "id": "08cfd2f8-8d01-40b4-a128-24557a1d47a2",
   "metadata": {},
   "outputs": [
    {
     "data": {
      "text/plain": [
       "360×180 Matrix{Matrix{Int64}}:\n",
       " [1 2 3 4; 2 4 6 8]                  …  [234 236 238 240; 468 472 476 480]\n",
       " [3 6 9 12; 4 8 12 16]                  [702 708 714 720; 936 944 952 960]\n",
       " [5 10 15 20; 6 12 18 24]               [1170 1180 1190 1200; 1404 1416 1428 1440]\n",
       " [7 14 21 28; 8 16 24 32]               [1638 1652 1666 1680; 1872 1888 1904 1920]\n",
       " [1 2 3 4; 3 6 9 12]                    [234 236 238 240; 702 708 714 720]\n",
       " [2 4 6 8; 4 8 12 16]                …  [468 472 476 480; 936 944 952 960]\n",
       " [5 10 15 20; 7 14 21 28]               [1170 1180 1190 1200; 1638 1652 1666 1680]\n",
       " [6 12 18 24; 8 16 24 32]               [1404 1416 1428 1440; 1872 1888 1904 1920]\n",
       " [1 2 3 4; 5 10 15 20]                  [234 236 238 240; 1170 1180 1190 1200]\n",
       " [2 4 6 8; 6 12 18 24]                  [468 472 476 480; 1404 1416 1428 1440]\n",
       " [3 6 9 12; 7 14 21 28]              …  [702 708 714 720; 1638 1652 1666 1680]\n",
       " [4 8 12 16; 8 16 24 32]                [936 944 952 960; 1872 1888 1904 1920]\n",
       " [9 18 27 36; 10 20 30 40]              [2106 2124 2142 2160; 2340 2360 2380 2400]\n",
       " ⋮                                   ⋱  \n",
       " [233 466 699 932; 234 468 702 936]     [54522 54988 55454 55920; 54756 55224 55692 56160]\n",
       " [235 470 705 940; 236 472 708 944]     [54990 55460 55930 56400; 55224 55696 56168 56640]\n",
       " [237 474 711 948; 238 476 714 952]  …  [55458 55932 56406 56880; 55692 56168 56644 57120]\n",
       " [239 478 717 956; 240 480 720 960]     [55926 56404 56882 57360; 56160 56640 57120 57600]\n",
       " [233 466 699 932; 235 470 705 940]     [54522 54988 55454 55920; 54990 55460 55930 56400]\n",
       " [234 468 702 936; 236 472 708 944]     [54756 55224 55692 56160; 55224 55696 56168 56640]\n",
       " [237 474 711 948; 239 478 717 956]     [55458 55932 56406 56880; 55926 56404 56882 57360]\n",
       " [238 476 714 952; 240 480 720 960]  …  [55692 56168 56644 57120; 56160 56640 57120 57600]\n",
       " [233 466 699 932; 237 474 711 948]     [54522 54988 55454 55920; 55458 55932 56406 56880]\n",
       " [234 468 702 936; 238 476 714 952]     [54756 55224 55692 56160; 55692 56168 56644 57120]\n",
       " [235 470 705 940; 239 478 717 956]     [54990 55460 55930 56400; 55926 56404 56882 57360]\n",
       " [236 472 708 944; 240 480 720 960]     [55224 55696 56168 56640; 56160 56640 57120 57600]"
      ]
     },
     "execution_count": 18,
     "metadata": {},
     "output_type": "execute_result"
    }
   ],
   "source": [
    "EF = EV.*VF"
   ]
  },
  {
   "cell_type": "code",
   "execution_count": 25,
   "id": "99c7b1d4",
   "metadata": {},
   "outputs": [
    {
     "data": {
      "text/plain": [
       "180×360 adjoint(::Matrix{Matrix{Int64}}) with eltype LinearAlgebra.Adjoint{Int64, Matrix{Int64}}:\n",
       " [1 2; 2 4; 3 6; 4 8]                  …  [236 240; 472 480; 708 720; 944 960]\n",
       " [5 10; 6 12; 7 14; 8 16]                 [1180 1200; 1416 1440; 1652 1680; 1888 1920]\n",
       " [1 2; 2 4; 5 10; 6 12]                   [236 240; 472 480; 1180 1200; 1416 1440]\n",
       " [3 6; 4 8; 7 14; 8 16]                   [708 720; 944 960; 1652 1680; 1888 1920]\n",
       " [1 2; 3 6; 5 10; 7 14]                   [236 240; 708 720; 1180 1200; 1652 1680]\n",
       " [2 4; 4 8; 6 12; 8 16]                …  [472 480; 944 960; 1416 1440; 1888 1920]\n",
       " [9 18; 10 20; 11 22; 12 24]              [2124 2160; 2360 2400; 2596 2640; 2832 2880]\n",
       " [13 26; 14 28; 15 30; 16 32]             [3068 3120; 3304 3360; 3540 3600; 3776 3840]\n",
       " [9 18; 10 20; 13 26; 14 28]              [2124 2160; 2360 2400; 3068 3120; 3304 3360]\n",
       " [11 22; 12 24; 15 30; 16 32]             [2596 2640; 2832 2880; 3540 3600; 3776 3840]\n",
       " [9 18; 11 22; 13 26; 15 30]           …  [2124 2160; 2596 2640; 3068 3120; 3540 3600]\n",
       " [10 20; 12 24; 14 28; 16 32]             [2360 2400; 2832 2880; 3304 3360; 3776 3840]\n",
       " [17 34; 18 36; 19 38; 20 40]             [4012 4080; 4248 4320; 4484 4560; 4720 4800]\n",
       " ⋮                                     ⋱  \n",
       " [225 450; 226 452; 227 454; 228 456]     [53100 54000; 53336 54240; 53572 54480; 53808 54720]\n",
       " [229 458; 230 460; 231 462; 232 464]     [54044 54960; 54280 55200; 54516 55440; 54752 55680]\n",
       " [225 450; 226 452; 229 458; 230 460]  …  [53100 54000; 53336 54240; 54044 54960; 54280 55200]\n",
       " [227 454; 228 456; 231 462; 232 464]     [53572 54480; 53808 54720; 54516 55440; 54752 55680]\n",
       " [225 450; 227 454; 229 458; 231 462]     [53100 54000; 53572 54480; 54044 54960; 54516 55440]\n",
       " [226 452; 228 456; 230 460; 232 464]     [53336 54240; 53808 54720; 54280 55200; 54752 55680]\n",
       " [233 466; 234 468; 235 470; 236 472]     [54988 55920; 55224 56160; 55460 56400; 55696 56640]\n",
       " [237 474; 238 476; 239 478; 240 480]  …  [55932 56880; 56168 57120; 56404 57360; 56640 57600]\n",
       " [233 466; 234 468; 237 474; 238 476]     [54988 55920; 55224 56160; 55932 56880; 56168 57120]\n",
       " [235 470; 236 472; 239 478; 240 480]     [55460 56400; 55696 56640; 56404 57360; 56640 57600]\n",
       " [233 466; 235 470; 237 474; 239 478]     [54988 55920; 55460 56400; 55932 56880; 56404 57360]\n",
       " [234 468; 236 472; 238 476; 240 480]     [55224 56160; 55696 56640; 56168 57120; 56640 57600]"
      ]
     },
     "execution_count": 25,
     "metadata": {},
     "output_type": "execute_result"
    }
   ],
   "source": [
    "FE = EF'"
   ]
  },
  {
   "cell_type": "code",
   "execution_count": 17,
   "id": "52640bb9-1ba4-472c-b4b2-47e7fc4ea045",
   "metadata": {},
   "outputs": [
    {
     "data": {
      "text/plain": [
       "180×180 Matrix{Int64}:\n",
       "   30    70    44    64    50    60    110  …    2364    2384    2370    2380\n",
       "   70   174   100   152   114   140    278       6132    6184    6146    6172\n",
       "   44   100    66    94    74    88    156       3314    3342    3322    3336\n",
       "   64   152    94   138   106   128    240       5198    5242    5210    5232\n",
       "   50   114    74   106    84   100    178       3786    3818    3796    3812\n",
       "   60   140    88   128   100   120    220  …    4728    4768    4740    4760\n",
       "  110   278   156   240   178   220    446       9900    9984    9922    9964\n",
       "  150   382   212   328   242   300    614      13668   13784   13698   13756\n",
       "  124   308   178   270   202   248    492      10850   10942   10874   10920\n",
       "  144   360   206   314   234   288    576      12734   12842   12762   12816\n",
       "  130   322   186   282   212   260    514  …   11322   11418   11348   11396\n",
       "  140   348   200   304   228   280    556      12264   12368   12292   12344\n",
       "  190   486   268   416   306   380    782      17436   17584   17474   17548\n",
       "    ⋮                             ⋮         ⋱                          \n",
       " 2270  5894  3180  4992  3634  4540   9518     213372  215184  213826  214732\n",
       " 2310  5998  3236  5080  3698  4620   9686     217140  218984  217602  218524\n",
       " 2284  5924  3202  5022  3658  4568   9564  …  214322  216142  214778  215688\n",
       " 2304  5976  3230  5066  3690  4608   9648     216206  218042  216666  217584\n",
       " 2290  5938  3210  5034  3668  4580   9586     214794  216618  215252  216164\n",
       " 2300  5964  3224  5056  3684  4600   9628     215736  217568  216196  217112\n",
       " 2350  6102  3292  5168  3762  4700   9854     220908  222784  221378  222316\n",
       " 2390  6206  3348  5256  3826  4780  10022  …  224676  226584  225154  226108\n",
       " 2364  6132  3314  5198  3786  4728   9900     221858  223742  222330  223272\n",
       " 2384  6184  3342  5242  3818  4768   9984     223742  225642  224218  225168\n",
       " 2370  6146  3322  5210  3796  4740   9922     222330  224218  222804  223748\n",
       " 2380  6172  3336  5232  3812  4760   9964     223272  225168  223748  224696"
      ]
     },
     "execution_count": 17,
     "metadata": {},
     "output_type": "execute_result"
    }
   ],
   "source": [
    "FF= VF .* FV"
   ]
  },
  {
   "cell_type": "markdown",
   "id": "adca3374",
   "metadata": {},
   "source": [
    "# <br><br><br><br><br> Chain Congruence"
   ]
  },
  {
   "cell_type": "code",
   "execution_count": 26,
   "id": "95f67bb8-622f-4830-a54c-3f52c603d289",
   "metadata": {},
   "outputs": [
    {
     "data": {
      "text/plain": [
       "([1.1624662 1.1624753 … 1.102137575 1.10213355; 0.5304282499999999 0.5304296500000001 … 0.144851975 0.144851975; 1.000068 1.0000715 … 1.13912805 1.13913365], [[1, 1], [1, 2], [2, 2], [3, 3], [3, 4], [4, 4], [5, 5], [5, 6], [5, 7], [6, 6]  …  [89, 90], [89, 91], [90, 90], [90, 92], [91, 91], [91, 92], [92, 92], [93, 93], [93, 94], [94, 94]], [[1, 1, 1, 1], [1, 2, 3, 3], [2, 2, 2, 2], [4, 4, 4, 4], [4, 5, 6, 6], [5, 5, 5, 5], [7, 7, 9, 10], [7, 8, 13, 14], [8, 8, 11, 12], [9, 11, 13, 13]  …  [131, 133, 135, 137], [132, 134, 136, 138], [139, 139, 141, 142], [139, 140, 145, 146], [140, 140, 143, 144], [141, 143, 145, 145], [142, 144, 146, 146], [147, 147, 148, 149], [148, 148, 148, 148], [149, 149, 149, 149]])"
      ]
     },
     "execution_count": 26,
     "metadata": {},
     "output_type": "execute_result"
    }
   ],
   "source": [
    "V,VE,FV=chainCongruenceAA(W,T)"
   ]
  },
  {
   "cell_type": "code",
   "execution_count": 27,
   "id": "eac8d53d-8504-4bf3-af06-f1dec1ed647e",
   "metadata": {},
   "outputs": [
    {
     "data": {
      "text/plain": [
       "149-element Vector{Vector{Int64}}:\n",
       " [1, 1]\n",
       " [1, 2]\n",
       " [2, 2]\n",
       " [3, 3]\n",
       " [3, 4]\n",
       " [4, 4]\n",
       " [5, 5]\n",
       " [5, 6]\n",
       " [5, 7]\n",
       " [6, 6]\n",
       " [6, 8]\n",
       " [7, 7]\n",
       " [7, 8]\n",
       " ⋮\n",
       " [87, 88]\n",
       " [89, 89]\n",
       " [89, 90]\n",
       " [89, 91]\n",
       " [90, 90]\n",
       " [90, 92]\n",
       " [91, 91]\n",
       " [91, 92]\n",
       " [92, 92]\n",
       " [93, 93]\n",
       " [93, 94]\n",
       " [94, 94]"
      ]
     },
     "execution_count": 27,
     "metadata": {},
     "output_type": "execute_result"
    }
   ],
   "source": [
    "VE"
   ]
  },
  {
   "cell_type": "code",
   "execution_count": 28,
   "id": "34f0265b",
   "metadata": {},
   "outputs": [
    {
     "data": {
      "text/plain": [
       "120-element Vector{Vector{Int64}}:\n",
       " [1, 1, 1, 1]\n",
       " [1, 2, 3, 3]\n",
       " [2, 2, 2, 2]\n",
       " [4, 4, 4, 4]\n",
       " [4, 5, 6, 6]\n",
       " [5, 5, 5, 5]\n",
       " [7, 7, 9, 10]\n",
       " [7, 8, 13, 14]\n",
       " [8, 8, 11, 12]\n",
       " [9, 11, 13, 13]\n",
       " [10, 12, 14, 14]\n",
       " [15, 15, 16, 17]\n",
       " [16, 16, 16, 16]\n",
       " ⋮\n",
       " [128, 130, 137, 138]\n",
       " [129, 130, 133, 134]\n",
       " [131, 133, 135, 137]\n",
       " [132, 134, 136, 138]\n",
       " [139, 139, 141, 142]\n",
       " [139, 140, 145, 146]\n",
       " [140, 140, 143, 144]\n",
       " [141, 143, 145, 145]\n",
       " [142, 144, 146, 146]\n",
       " [147, 147, 148, 149]\n",
       " [148, 148, 148, 148]\n",
       " [149, 149, 149, 149]"
      ]
     },
     "execution_count": 28,
     "metadata": {},
     "output_type": "execute_result"
    }
   ],
   "source": [
    "FV"
   ]
  },
  {
   "cell_type": "code",
   "execution_count": null,
   "id": "a48bfe4d",
   "metadata": {},
   "outputs": [],
   "source": []
  }
 ],
 "metadata": {
  "kernelspec": {
   "display_name": "Julia 1.6.5",
   "language": "julia",
   "name": "julia-1.6"
  },
  "language_info": {
   "file_extension": ".jl",
   "mimetype": "application/julia",
   "name": "julia",
   "version": "1.6.5"
  }
 },
 "nbformat": 4,
 "nbformat_minor": 5
}
