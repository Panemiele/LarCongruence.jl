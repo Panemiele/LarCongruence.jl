{
 "cells": [
  {
   "cell_type": "code",
   "execution_count": 62,
   "id": "e1c3ee29-6e13-42bc-acf7-ee78ebc90164",
   "metadata": {},
   "outputs": [
    {
     "data": {
      "text/plain": [
       "LinearAlgebraicRepresentation"
      ]
     },
     "execution_count": 62,
     "metadata": {},
     "output_type": "execute_result"
    }
   ],
   "source": [
    "using LinearAlgebraicRepresentation\n",
    "Lar= LinearAlgebraicRepresentation"
   ]
  },
  {
   "cell_type": "code",
   "execution_count": 63,
   "id": "361727d3-5100-4231-a37c-e0c03208e0e7",
   "metadata": {},
   "outputs": [],
   "source": [
    "using SparseArrays\n",
    "using DataStructures\n",
    "using NearestNeighbors"
   ]
  },
  {
   "cell_type": "code",
   "execution_count": 64,
   "id": "eda8ed11-43f5-4126-8dc8-56cc1470ac81",
   "metadata": {},
   "outputs": [
    {
     "data": {
      "text/plain": [
       "chainCongruenceAA (generic function with 1 method)"
      ]
     },
     "execution_count": 64,
     "metadata": {},
     "output_type": "execute_result"
    }
   ],
   "source": [
    "function vertCongruence(W)\n",
    "\terr, i, todelete, vclasses = 10^-5.2,1,[], []\n",
    "\tverts = convert(Lar.Points, W')\n",
    "\tkdtree = NearestNeighbors.KDTree(verts)\n",
    "\tnewverts = zeros(Int, size(verts,2))\n",
    "\tfor vi in 1:size(verts,2)\n",
    "\t\tif !(vi in todelete)\n",
    "\t\t\tnearvs = NearestNeighbors.inrange(kdtree, verts[:,vi], err)\n",
    "\t\t\tpush!(vclasses,nearvs)\n",
    "\t\t\tnewverts[nearvs] .= i\n",
    "\t\t\tnearvs = setdiff(nearvs, vi)\n",
    "\t\t\ttodelete = union(todelete, nearvs)\n",
    "\t\t\ti += 1\n",
    "\t\tend\n",
    "\tend\n",
    "\tV = zeros(3,length(vclasses))\n",
    "\tfor (k,class) in enumerate(vclasses)\n",
    "\t\t\tV[:,k] = sum(W[class,:],dims=1)/length(class)\n",
    "\tend\n",
    "\treturn V, vclasses\n",
    "end\n",
    "\n",
    "\n",
    "function cellCongruenceAA(Delta,inclasses)\n",
    "\tcellarray = Lar.cop2lar(Delta)\n",
    "\tnew_e = Array{Int64,1}(undef,size(Delta,2))\n",
    "\tfor (k,class) in enumerate(inclasses)\n",
    "\t\tfor e in class\n",
    "\t\t\tnew_e[e] = k\n",
    "\t\tend\n",
    "\tend\n",
    "  cells = [map(e->new_e[e], face) for face in cellarray]\n",
    "  outclasses = DefaultOrderedDict{Array{Int64,1},Array{Int64,1}}([])\n",
    "  for (k,face) in enumerate(cells)\n",
    "    if outclasses[face] == []\n",
    "    \toutclasses[face] = [k]\n",
    "    else\n",
    "    \tappend!(outclasses[face],[k])\n",
    "    end\n",
    "  end\n",
    "\tFEnew = sort(collect(keys(outclasses)))\n",
    "  outclasses = sort(collect(values(outclasses)))\n",
    "  return FEnew,outclasses\n",
    "end\n",
    "\n",
    "\n",
    "function chainCongruenceAA(W, T)\n",
    "\tV, vclasses = vertCongruence(W)\n",
    "\tEV, eclasses = cellCongruenceAA(T[1],vclasses)\n",
    "\tFE, fclasses = cellCongruenceAA(T[2],eclasses)\n",
    "\t#@show size(V,2) - size(EV,1) + size(FE,1)\n",
    "\treturn V,EV,FE\n",
    "end"
   ]
  },
  {
   "cell_type": "code",
   "execution_count": 88,
   "id": "046a1085-e86e-4161-bd73-f16b9e44cf49",
   "metadata": {},
   "outputs": [
    {
     "data": {
      "text/plain": [
       "2-element Vector{SparseMatrixCSC{Int8, Int64}}:\n",
       " sparse([1, 5, 9, 1, 6, 10, 2, 5, 11, 2  …  359997, 359991, 359996, 359998, 359992, 359995, 359999, 359992, 359996, 360000], [1, 1, 1, 2, 2, 2, 3, 3, 3, 4  …  239839, 239840, 239840, 239840, 239841, 239841, 239841, 239842, 239842, 239842], Int8[-1, -1, -1, 1, -1, -1, -1, 1, -1, 1  …  1, 1, -1, 1, -1, 1, 1, 1, 1, 1], 360000, 239842)\n",
       " sparse([1, 3, 1, 4, 2, 3, 2, 4, 1, 5  …  179996, 180000, 179997, 179999, 179997, 180000, 179998, 179999, 179998, 180000], [1, 1, 2, 2, 3, 3, 4, 4, 5, 5  …  359996, 359996, 359997, 359997, 359998, 359998, 359999, 359999, 360000, 360000], Int8[1, 1, 1, 1, 1, 1, 1, 1, 1, 1  …  1, 1, 1, 1, 1, 1, 1, 1, 1, 1], 180000, 360000)"
      ]
     },
     "execution_count": 88,
     "metadata": {},
     "output_type": "execute_result"
    }
   ],
   "source": [
    "V,EV,FE=Lar.randomcubes(30000,.0001)\n",
    "\n",
    "W = convert(Lar.Points, V');\n",
    "cop_EV = Lar.coboundary_0(EV::Lar.Cells);\n",
    "cop_FE = Lar.coboundary_1(FE::Lar.Cells, EV::Lar.Cells);\n",
    "\n",
    "T = [cop_EV, cop_FE]"
   ]
  },
  {
   "cell_type": "markdown",
   "id": "97bed464",
   "metadata": {},
   "source": [
    "# Nove matrici di adiacenza/incidenza"
   ]
  },
  {
   "cell_type": "code",
   "execution_count": 27,
   "id": "a36f4db6",
   "metadata": {},
   "outputs": [
    {
     "data": {
      "text/plain": [
       "360-element Vector{Vector{Int64}}:\n",
       " [1, 2]\n",
       " [3, 4]\n",
       " [5, 6]\n",
       " [7, 8]\n",
       " [1, 3]\n",
       " [2, 4]\n",
       " [5, 7]\n",
       " [6, 8]\n",
       " [1, 5]\n",
       " [2, 6]\n",
       " [3, 7]\n",
       " [4, 8]\n",
       " [9, 10]\n",
       " ⋮\n",
       " [233, 234]\n",
       " [235, 236]\n",
       " [237, 238]\n",
       " [239, 240]\n",
       " [233, 235]\n",
       " [234, 236]\n",
       " [237, 239]\n",
       " [238, 240]\n",
       " [233, 237]\n",
       " [234, 238]\n",
       " [235, 239]\n",
       " [236, 240]"
      ]
     },
     "execution_count": 27,
     "metadata": {},
     "output_type": "execute_result"
    }
   ],
   "source": [
    "EV = map(Vector{Int64}, EV)"
   ]
  },
  {
   "cell_type": "code",
   "execution_count": 28,
   "id": "d894544b",
   "metadata": {},
   "outputs": [
    {
     "data": {
      "text/plain": [
       "180-element Vector{Vector{Int64}}:\n",
       " [1, 2, 3, 4]\n",
       " [5, 6, 7, 8]\n",
       " [1, 2, 5, 6]\n",
       " [3, 4, 7, 8]\n",
       " [1, 3, 5, 7]\n",
       " [2, 4, 6, 8]\n",
       " [9, 10, 11, 12]\n",
       " [13, 14, 15, 16]\n",
       " [9, 10, 13, 14]\n",
       " [11, 12, 15, 16]\n",
       " [9, 11, 13, 15]\n",
       " [10, 12, 14, 16]\n",
       " [17, 18, 19, 20]\n",
       " ⋮\n",
       " [225, 226, 227, 228]\n",
       " [229, 230, 231, 232]\n",
       " [225, 226, 229, 230]\n",
       " [227, 228, 231, 232]\n",
       " [225, 227, 229, 231]\n",
       " [226, 228, 230, 232]\n",
       " [233, 234, 235, 236]\n",
       " [237, 238, 239, 240]\n",
       " [233, 234, 237, 238]\n",
       " [235, 236, 239, 240]\n",
       " [233, 235, 237, 239]\n",
       " [234, 236, 238, 240]"
      ]
     },
     "execution_count": 28,
     "metadata": {},
     "output_type": "execute_result"
    }
   ],
   "source": [
    "FE = map(Vector{Int64}, FE)"
   ]
  },
  {
   "cell_type": "code",
   "execution_count": 29,
   "id": "e1cce554-0bb1-45ed-846e-1ac17b183fac",
   "metadata": {},
   "outputs": [
    {
     "data": {
      "text/plain": [
       "240-element Vector{Vector{Int64}}:\n",
       " [1]\n",
       " [2]\n",
       " [3]\n",
       " [4]\n",
       " [5]\n",
       " [6]\n",
       " [7]\n",
       " [8]\n",
       " [9]\n",
       " [10]\n",
       " [11]\n",
       " [12]\n",
       " [13]\n",
       " ⋮\n",
       " [229]\n",
       " [230]\n",
       " [231]\n",
       " [232]\n",
       " [233]\n",
       " [234]\n",
       " [235]\n",
       " [236]\n",
       " [237]\n",
       " [238]\n",
       " [239]\n",
       " [240]"
      ]
     },
     "execution_count": 29,
     "metadata": {},
     "output_type": "execute_result"
    }
   ],
   "source": [
    "VV = [[k] for k=1:size(V,2)]"
   ]
  },
  {
   "cell_type": "code",
   "execution_count": 30,
   "id": "a41a4e1f-4c1c-462f-9d21-bd8e9d1d6b0c",
   "metadata": {},
   "outputs": [
    {
     "data": {
      "text/plain": [
       "1×360 adjoint(::Vector{Vector{Int64}}) with eltype LinearAlgebra.Adjoint{Int64, Vector{Int64}}:\n",
       " [1 2]  [3 4]  [5 6]  [7 8]  [1 3]  [2 4]  …  [234 238]  [235 239]  [236 240]"
      ]
     },
     "execution_count": 30,
     "metadata": {},
     "output_type": "execute_result"
    }
   ],
   "source": [
    "VE=EV'"
   ]
  },
  {
   "cell_type": "code",
   "execution_count": 31,
   "id": "64d1461f",
   "metadata": {},
   "outputs": [
    {
     "data": {
      "text/plain": [
       "180×1 Matrix{Vector{Int64}}:\n",
       " [1, 2, 3, 4]\n",
       " [5, 6, 7, 8]\n",
       " [1, 2, 5, 6]\n",
       " [3, 4, 7, 8]\n",
       " [1, 3, 5, 7]\n",
       " [2, 4, 6, 8]\n",
       " [9, 10, 11, 12]\n",
       " [13, 14, 15, 16]\n",
       " [9, 10, 13, 14]\n",
       " [11, 12, 15, 16]\n",
       " [9, 11, 13, 15]\n",
       " [10, 12, 14, 16]\n",
       " [17, 18, 19, 20]\n",
       " ⋮\n",
       " [225, 226, 227, 228]\n",
       " [229, 230, 231, 232]\n",
       " [225, 226, 229, 230]\n",
       " [227, 228, 231, 232]\n",
       " [225, 227, 229, 231]\n",
       " [226, 228, 230, 232]\n",
       " [233, 234, 235, 236]\n",
       " [237, 238, 239, 240]\n",
       " [233, 234, 237, 238]\n",
       " [235, 236, 239, 240]\n",
       " [233, 235, 237, 239]\n",
       " [234, 236, 238, 240]"
      ]
     },
     "execution_count": 31,
     "metadata": {},
     "output_type": "execute_result"
    }
   ],
   "source": [
    "FE = hcat(FE)"
   ]
  },
  {
   "cell_type": "code",
   "execution_count": 38,
   "id": "1107e236",
   "metadata": {},
   "outputs": [
    {
     "data": {
      "text/plain": [
       "360×1 Matrix{Vector{Int64}}:\n",
       " [1, 2]\n",
       " [3, 4]\n",
       " [5, 6]\n",
       " [7, 8]\n",
       " [1, 3]\n",
       " [2, 4]\n",
       " [5, 7]\n",
       " [6, 8]\n",
       " [1, 5]\n",
       " [2, 6]\n",
       " [3, 7]\n",
       " [4, 8]\n",
       " [9, 10]\n",
       " ⋮\n",
       " [233, 234]\n",
       " [235, 236]\n",
       " [237, 238]\n",
       " [239, 240]\n",
       " [233, 235]\n",
       " [234, 236]\n",
       " [237, 239]\n",
       " [238, 240]\n",
       " [233, 237]\n",
       " [234, 238]\n",
       " [235, 239]\n",
       " [236, 240]"
      ]
     },
     "execution_count": 38,
     "metadata": {},
     "output_type": "execute_result"
    }
   ],
   "source": [
    "EV = hcat(EV)"
   ]
  },
  {
   "cell_type": "code",
   "execution_count": 42,
   "id": "4784ab73",
   "metadata": {},
   "outputs": [
    {
     "ename": "LoadError",
     "evalue": "MethodError: mul!(::Matrix{Union{}}, ::Matrix{Vector{Int64}}, ::Matrix{Vector{Int64}}) is ambiguous. Candidates:\n  mul!(ret::AbstractMatrix{<:MutableArithmetics.AbstractMutable}, A::AbstractVecOrMat, B::AbstractVecOrMat, args::Vararg{Any, N}) where N in MutableArithmetics at /Users/panemiele/.julia/packages/MutableArithmetics/0Y9ZS/src/dispatch.jl:126\n  mul!(ret::AbstractMatrix{<:JuMP.GenericAffOrQuadExpr}, A::AbstractVecOrMat, B::AbstractVecOrMat, args...) in JuMP at /Users/panemiele/.julia/packages/JuMP/iGamg/src/operators.jl:497\nPossible fix, define\n  mul!(::AbstractMatrix{Union{}}, ::AbstractVecOrMat, ::AbstractVecOrMat, ::Vararg{Any, N}) where N",
     "output_type": "error",
     "traceback": [
      "MethodError: mul!(::Matrix{Union{}}, ::Matrix{Vector{Int64}}, ::Matrix{Vector{Int64}}) is ambiguous. Candidates:\n  mul!(ret::AbstractMatrix{<:MutableArithmetics.AbstractMutable}, A::AbstractVecOrMat, B::AbstractVecOrMat, args::Vararg{Any, N}) where N in MutableArithmetics at /Users/panemiele/.julia/packages/MutableArithmetics/0Y9ZS/src/dispatch.jl:126\n  mul!(ret::AbstractMatrix{<:JuMP.GenericAffOrQuadExpr}, A::AbstractVecOrMat, B::AbstractVecOrMat, args...) in JuMP at /Users/panemiele/.julia/packages/JuMP/iGamg/src/operators.jl:497\nPossible fix, define\n  mul!(::AbstractMatrix{Union{}}, ::AbstractVecOrMat, ::AbstractVecOrMat, ::Vararg{Any, N}) where N",
      "",
      "Stacktrace:",
      " [1] *(A::Matrix{Vector{Int64}}, B::Matrix{Vector{Int64}})",
      "   @ LinearAlgebra /Applications/Julia-1.7.app/Contents/Resources/julia/share/julia/stdlib/v1.7/LinearAlgebra/src/matmul.jl:153",
      " [2] top-level scope",
      "   @ In[42]:1",
      " [3] eval",
      "   @ ./boot.jl:373 [inlined]",
      " [4] include_string(mapexpr::typeof(REPL.softscope), mod::Module, code::String, filename::String)",
      "   @ Base ./loading.jl:1196"
     ]
    }
   ],
   "source": [
    "FV = map(Vector{Int64}, FE * EV)"
   ]
  },
  {
   "cell_type": "code",
   "execution_count": 11,
   "id": "b0b79ae2-c950-4419-9e88-179f45f27f7c",
   "metadata": {},
   "outputs": [
    {
     "data": {
      "text/plain": [
       "1×180 adjoint(::Vector{Vector{Int64}}) with eltype LinearAlgebra.Adjoint{Int64, Vector{Int64}}:\n",
       " [1 2 3 4]  [5 6 7 8]  [1 2 5 6]  [3 4 7 8]  [1 3 5 7]  …  [234 236 238 240]"
      ]
     },
     "execution_count": 11,
     "metadata": {},
     "output_type": "execute_result"
    }
   ],
   "source": [
    "VF=FV'"
   ]
  },
  {
   "cell_type": "code",
   "execution_count": 14,
   "id": "8860b7c4",
   "metadata": {},
   "outputs": [
    {
     "data": {
      "text/plain": [
       "13910520"
      ]
     },
     "execution_count": 14,
     "metadata": {},
     "output_type": "execute_result"
    }
   ],
   "source": [
    "EE = VE * EV"
   ]
  },
  {
   "cell_type": "code",
   "execution_count": 18,
   "id": "08cfd2f8-8d01-40b4-a128-24557a1d47a2",
   "metadata": {},
   "outputs": [
    {
     "data": {
      "text/plain": [
       "360×180 Matrix{Matrix{Int64}}:\n",
       " [1 2 3 4; 2 4 6 8]                  …  [234 236 238 240; 468 472 476 480]\n",
       " [3 6 9 12; 4 8 12 16]                  [702 708 714 720; 936 944 952 960]\n",
       " [5 10 15 20; 6 12 18 24]               [1170 1180 1190 1200; 1404 1416 1428 1440]\n",
       " [7 14 21 28; 8 16 24 32]               [1638 1652 1666 1680; 1872 1888 1904 1920]\n",
       " [1 2 3 4; 3 6 9 12]                    [234 236 238 240; 702 708 714 720]\n",
       " [2 4 6 8; 4 8 12 16]                …  [468 472 476 480; 936 944 952 960]\n",
       " [5 10 15 20; 7 14 21 28]               [1170 1180 1190 1200; 1638 1652 1666 1680]\n",
       " [6 12 18 24; 8 16 24 32]               [1404 1416 1428 1440; 1872 1888 1904 1920]\n",
       " [1 2 3 4; 5 10 15 20]                  [234 236 238 240; 1170 1180 1190 1200]\n",
       " [2 4 6 8; 6 12 18 24]                  [468 472 476 480; 1404 1416 1428 1440]\n",
       " [3 6 9 12; 7 14 21 28]              …  [702 708 714 720; 1638 1652 1666 1680]\n",
       " [4 8 12 16; 8 16 24 32]                [936 944 952 960; 1872 1888 1904 1920]\n",
       " [9 18 27 36; 10 20 30 40]              [2106 2124 2142 2160; 2340 2360 2380 2400]\n",
       " ⋮                                   ⋱  \n",
       " [233 466 699 932; 234 468 702 936]     [54522 54988 55454 55920; 54756 55224 55692 56160]\n",
       " [235 470 705 940; 236 472 708 944]     [54990 55460 55930 56400; 55224 55696 56168 56640]\n",
       " [237 474 711 948; 238 476 714 952]  …  [55458 55932 56406 56880; 55692 56168 56644 57120]\n",
       " [239 478 717 956; 240 480 720 960]     [55926 56404 56882 57360; 56160 56640 57120 57600]\n",
       " [233 466 699 932; 235 470 705 940]     [54522 54988 55454 55920; 54990 55460 55930 56400]\n",
       " [234 468 702 936; 236 472 708 944]     [54756 55224 55692 56160; 55224 55696 56168 56640]\n",
       " [237 474 711 948; 239 478 717 956]     [55458 55932 56406 56880; 55926 56404 56882 57360]\n",
       " [238 476 714 952; 240 480 720 960]  …  [55692 56168 56644 57120; 56160 56640 57120 57600]\n",
       " [233 466 699 932; 237 474 711 948]     [54522 54988 55454 55920; 55458 55932 56406 56880]\n",
       " [234 468 702 936; 238 476 714 952]     [54756 55224 55692 56160; 55692 56168 56644 57120]\n",
       " [235 470 705 940; 239 478 717 956]     [54990 55460 55930 56400; 55926 56404 56882 57360]\n",
       " [236 472 708 944; 240 480 720 960]     [55224 55696 56168 56640; 56160 56640 57120 57600]"
      ]
     },
     "execution_count": 18,
     "metadata": {},
     "output_type": "execute_result"
    }
   ],
   "source": [
    "EF = EV.*VF"
   ]
  },
  {
   "cell_type": "code",
   "execution_count": 25,
   "id": "99c7b1d4",
   "metadata": {},
   "outputs": [
    {
     "data": {
      "text/plain": [
       "180×360 adjoint(::Matrix{Matrix{Int64}}) with eltype LinearAlgebra.Adjoint{Int64, Matrix{Int64}}:\n",
       " [1 2; 2 4; 3 6; 4 8]                  …  [236 240; 472 480; 708 720; 944 960]\n",
       " [5 10; 6 12; 7 14; 8 16]                 [1180 1200; 1416 1440; 1652 1680; 1888 1920]\n",
       " [1 2; 2 4; 5 10; 6 12]                   [236 240; 472 480; 1180 1200; 1416 1440]\n",
       " [3 6; 4 8; 7 14; 8 16]                   [708 720; 944 960; 1652 1680; 1888 1920]\n",
       " [1 2; 3 6; 5 10; 7 14]                   [236 240; 708 720; 1180 1200; 1652 1680]\n",
       " [2 4; 4 8; 6 12; 8 16]                …  [472 480; 944 960; 1416 1440; 1888 1920]\n",
       " [9 18; 10 20; 11 22; 12 24]              [2124 2160; 2360 2400; 2596 2640; 2832 2880]\n",
       " [13 26; 14 28; 15 30; 16 32]             [3068 3120; 3304 3360; 3540 3600; 3776 3840]\n",
       " [9 18; 10 20; 13 26; 14 28]              [2124 2160; 2360 2400; 3068 3120; 3304 3360]\n",
       " [11 22; 12 24; 15 30; 16 32]             [2596 2640; 2832 2880; 3540 3600; 3776 3840]\n",
       " [9 18; 11 22; 13 26; 15 30]           …  [2124 2160; 2596 2640; 3068 3120; 3540 3600]\n",
       " [10 20; 12 24; 14 28; 16 32]             [2360 2400; 2832 2880; 3304 3360; 3776 3840]\n",
       " [17 34; 18 36; 19 38; 20 40]             [4012 4080; 4248 4320; 4484 4560; 4720 4800]\n",
       " ⋮                                     ⋱  \n",
       " [225 450; 226 452; 227 454; 228 456]     [53100 54000; 53336 54240; 53572 54480; 53808 54720]\n",
       " [229 458; 230 460; 231 462; 232 464]     [54044 54960; 54280 55200; 54516 55440; 54752 55680]\n",
       " [225 450; 226 452; 229 458; 230 460]  …  [53100 54000; 53336 54240; 54044 54960; 54280 55200]\n",
       " [227 454; 228 456; 231 462; 232 464]     [53572 54480; 53808 54720; 54516 55440; 54752 55680]\n",
       " [225 450; 227 454; 229 458; 231 462]     [53100 54000; 53572 54480; 54044 54960; 54516 55440]\n",
       " [226 452; 228 456; 230 460; 232 464]     [53336 54240; 53808 54720; 54280 55200; 54752 55680]\n",
       " [233 466; 234 468; 235 470; 236 472]     [54988 55920; 55224 56160; 55460 56400; 55696 56640]\n",
       " [237 474; 238 476; 239 478; 240 480]  …  [55932 56880; 56168 57120; 56404 57360; 56640 57600]\n",
       " [233 466; 234 468; 237 474; 238 476]     [54988 55920; 55224 56160; 55932 56880; 56168 57120]\n",
       " [235 470; 236 472; 239 478; 240 480]     [55460 56400; 55696 56640; 56404 57360; 56640 57600]\n",
       " [233 466; 235 470; 237 474; 239 478]     [54988 55920; 55460 56400; 55932 56880; 56404 57360]\n",
       " [234 468; 236 472; 238 476; 240 480]     [55224 56160; 55696 56640; 56168 57120; 56640 57600]"
      ]
     },
     "execution_count": 25,
     "metadata": {},
     "output_type": "execute_result"
    }
   ],
   "source": [
    "FE = EF'"
   ]
  },
  {
   "cell_type": "code",
   "execution_count": 17,
   "id": "52640bb9-1ba4-472c-b4b2-47e7fc4ea045",
   "metadata": {},
   "outputs": [
    {
     "data": {
      "text/plain": [
       "180×180 Matrix{Int64}:\n",
       "   30    70    44    64    50    60    110  …    2364    2384    2370    2380\n",
       "   70   174   100   152   114   140    278       6132    6184    6146    6172\n",
       "   44   100    66    94    74    88    156       3314    3342    3322    3336\n",
       "   64   152    94   138   106   128    240       5198    5242    5210    5232\n",
       "   50   114    74   106    84   100    178       3786    3818    3796    3812\n",
       "   60   140    88   128   100   120    220  …    4728    4768    4740    4760\n",
       "  110   278   156   240   178   220    446       9900    9984    9922    9964\n",
       "  150   382   212   328   242   300    614      13668   13784   13698   13756\n",
       "  124   308   178   270   202   248    492      10850   10942   10874   10920\n",
       "  144   360   206   314   234   288    576      12734   12842   12762   12816\n",
       "  130   322   186   282   212   260    514  …   11322   11418   11348   11396\n",
       "  140   348   200   304   228   280    556      12264   12368   12292   12344\n",
       "  190   486   268   416   306   380    782      17436   17584   17474   17548\n",
       "    ⋮                             ⋮         ⋱                          \n",
       " 2270  5894  3180  4992  3634  4540   9518     213372  215184  213826  214732\n",
       " 2310  5998  3236  5080  3698  4620   9686     217140  218984  217602  218524\n",
       " 2284  5924  3202  5022  3658  4568   9564  …  214322  216142  214778  215688\n",
       " 2304  5976  3230  5066  3690  4608   9648     216206  218042  216666  217584\n",
       " 2290  5938  3210  5034  3668  4580   9586     214794  216618  215252  216164\n",
       " 2300  5964  3224  5056  3684  4600   9628     215736  217568  216196  217112\n",
       " 2350  6102  3292  5168  3762  4700   9854     220908  222784  221378  222316\n",
       " 2390  6206  3348  5256  3826  4780  10022  …  224676  226584  225154  226108\n",
       " 2364  6132  3314  5198  3786  4728   9900     221858  223742  222330  223272\n",
       " 2384  6184  3342  5242  3818  4768   9984     223742  225642  224218  225168\n",
       " 2370  6146  3322  5210  3796  4740   9922     222330  224218  222804  223748\n",
       " 2380  6172  3336  5232  3812  4760   9964     223272  225168  223748  224696"
      ]
     },
     "execution_count": 17,
     "metadata": {},
     "output_type": "execute_result"
    }
   ],
   "source": [
    "FF= VF .* FV"
   ]
  },
  {
   "cell_type": "markdown",
   "id": "adca3374",
   "metadata": {},
   "source": [
    "# <br><br><br><br><br> Chain Congruence"
   ]
  },
  {
   "cell_type": "code",
   "execution_count": 26,
   "id": "95f67bb8-622f-4830-a54c-3f52c603d289",
   "metadata": {},
   "outputs": [
    {
     "data": {
      "text/plain": [
       "([1.1624662 1.1624753 … 1.102137575 1.10213355; 0.5304282499999999 0.5304296500000001 … 0.144851975 0.144851975; 1.000068 1.0000715 … 1.13912805 1.13913365], [[1, 1], [1, 2], [2, 2], [3, 3], [3, 4], [4, 4], [5, 5], [5, 6], [5, 7], [6, 6]  …  [89, 90], [89, 91], [90, 90], [90, 92], [91, 91], [91, 92], [92, 92], [93, 93], [93, 94], [94, 94]], [[1, 1, 1, 1], [1, 2, 3, 3], [2, 2, 2, 2], [4, 4, 4, 4], [4, 5, 6, 6], [5, 5, 5, 5], [7, 7, 9, 10], [7, 8, 13, 14], [8, 8, 11, 12], [9, 11, 13, 13]  …  [131, 133, 135, 137], [132, 134, 136, 138], [139, 139, 141, 142], [139, 140, 145, 146], [140, 140, 143, 144], [141, 143, 145, 145], [142, 144, 146, 146], [147, 147, 148, 149], [148, 148, 148, 148], [149, 149, 149, 149]])"
      ]
     },
     "execution_count": 26,
     "metadata": {},
     "output_type": "execute_result"
    }
   ],
   "source": [
    "V,VE,FV=chainCongruenceAA(W,T)"
   ]
  },
  {
   "cell_type": "code",
   "execution_count": 27,
   "id": "eac8d53d-8504-4bf3-af06-f1dec1ed647e",
   "metadata": {},
   "outputs": [
    {
     "data": {
      "text/plain": [
       "149-element Vector{Vector{Int64}}:\n",
       " [1, 1]\n",
       " [1, 2]\n",
       " [2, 2]\n",
       " [3, 3]\n",
       " [3, 4]\n",
       " [4, 4]\n",
       " [5, 5]\n",
       " [5, 6]\n",
       " [5, 7]\n",
       " [6, 6]\n",
       " [6, 8]\n",
       " [7, 7]\n",
       " [7, 8]\n",
       " ⋮\n",
       " [87, 88]\n",
       " [89, 89]\n",
       " [89, 90]\n",
       " [89, 91]\n",
       " [90, 90]\n",
       " [90, 92]\n",
       " [91, 91]\n",
       " [91, 92]\n",
       " [92, 92]\n",
       " [93, 93]\n",
       " [93, 94]\n",
       " [94, 94]"
      ]
     },
     "execution_count": 27,
     "metadata": {},
     "output_type": "execute_result"
    }
   ],
   "source": [
    "VE"
   ]
  },
  {
   "cell_type": "code",
   "execution_count": 28,
   "id": "34f0265b",
   "metadata": {},
   "outputs": [
    {
     "data": {
      "text/plain": [
       "120-element Vector{Vector{Int64}}:\n",
       " [1, 1, 1, 1]\n",
       " [1, 2, 3, 3]\n",
       " [2, 2, 2, 2]\n",
       " [4, 4, 4, 4]\n",
       " [4, 5, 6, 6]\n",
       " [5, 5, 5, 5]\n",
       " [7, 7, 9, 10]\n",
       " [7, 8, 13, 14]\n",
       " [8, 8, 11, 12]\n",
       " [9, 11, 13, 13]\n",
       " [10, 12, 14, 14]\n",
       " [15, 15, 16, 17]\n",
       " [16, 16, 16, 16]\n",
       " ⋮\n",
       " [128, 130, 137, 138]\n",
       " [129, 130, 133, 134]\n",
       " [131, 133, 135, 137]\n",
       " [132, 134, 136, 138]\n",
       " [139, 139, 141, 142]\n",
       " [139, 140, 145, 146]\n",
       " [140, 140, 143, 144]\n",
       " [141, 143, 145, 145]\n",
       " [142, 144, 146, 146]\n",
       " [147, 147, 148, 149]\n",
       " [148, 148, 148, 148]\n",
       " [149, 149, 149, 149]"
      ]
     },
     "execution_count": 28,
     "metadata": {},
     "output_type": "execute_result"
    }
   ],
   "source": [
    "FV"
   ]
  }
 ],
 "metadata": {
  "kernelspec": {
   "display_name": "Julia 1.7.2",
   "language": "julia",
   "name": "julia-1.7"
  },
  "language_info": {
   "file_extension": ".jl",
   "mimetype": "application/julia",
   "name": "julia",
   "version": "1.7.2"
  }
 },
 "nbformat": 4,
 "nbformat_minor": 5
}
