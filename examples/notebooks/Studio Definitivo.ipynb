{
 "cells": [
  {
   "cell_type": "markdown",
   "id": "e661b95a",
   "metadata": {},
   "source": [
    "# [CPD22-7a] LocalCongruence\n",
    "## Progetto a cura di:\n",
    "###       Gabriele Romualdi 521111\n",
    "###       Simone Chilosi 522155\n",
    "<br><br>\n",
    "### Link Github: https://github.com/Panemiele/LarCongruence.jl"
   ]
  },
  {
   "cell_type": "markdown",
   "id": "84ee0e32",
   "metadata": {},
   "source": [
    "# Global Setup"
   ]
  },
  {
   "cell_type": "code",
   "execution_count": 1,
   "id": "70550cc5",
   "metadata": {},
   "outputs": [
    {
     "data": {
      "text/plain": [
       "GrB_SUCCESS::GrB_Info = 0"
      ]
     },
     "execution_count": 1,
     "metadata": {},
     "output_type": "execute_result"
    }
   ],
   "source": [
    "using BenchmarkTools\n",
    "using LinearAlgebraicRepresentation\n",
    "using SparseArrays, DataStructures, NearestNeighbors\n",
    "using SuiteSparseGraphBLAS, GraphBLASInterface\n",
    "using SparseMM\n",
    "Lar = LinearAlgebraicRepresentation\n",
    "using ViewerGL\n",
    "GL = ViewerGL\n",
    "using Base.Threads;\n",
    "GrB_init(GrB_NONBLOCKING)"
   ]
  },
  {
   "cell_type": "markdown",
   "id": "cb871d37",
   "metadata": {},
   "source": [
    "# Vert Congruence"
   ]
  },
  {
   "cell_type": "markdown",
   "id": "da816227",
   "metadata": {},
   "source": [
    "## Normal Version"
   ]
  },
  {
   "cell_type": "code",
   "execution_count": 2,
   "id": "a4c383be",
   "metadata": {},
   "outputs": [
    {
     "data": {
      "text/plain": [
       "vcongruence (generic function with 1 method)"
      ]
     },
     "execution_count": 2,
     "metadata": {},
     "output_type": "execute_result"
    }
   ],
   "source": [
    "function vcongruence(V::Matrix,epsilon)\n",
    "    vclasses, visited = [], []\n",
    "    kdtree = NearestNeighbors.KDTree(V);\n",
    "    for vidx = 1 : size(V, 2) if !(vidx in visited)\n",
    "       nearvs = NearestNeighbors.inrange(kdtree, V[:,vidx], epsilon)\n",
    "       push!(vclasses, nearvs)\n",
    "\t\t\t append!(visited, nearvs) end\n",
    "    end\n",
    "    W = hcat([sum(V[:,class], dims=2)/length(class) for class in vclasses]...)\n",
    "    return W, vclasses\n",
    "end"
   ]
  },
  {
   "cell_type": "markdown",
   "id": "be2df901",
   "metadata": {},
   "source": [
    "## Optimized Version"
   ]
  },
  {
   "cell_type": "code",
   "execution_count": 3,
   "id": "e4bae3fc",
   "metadata": {},
   "outputs": [
    {
     "data": {
      "text/plain": [
       "vcongruence_OPT (generic function with 1 method)"
      ]
     },
     "execution_count": 3,
     "metadata": {},
     "output_type": "execute_result"
    }
   ],
   "source": [
    "function vcongruence_OPT(V::Matrix,epsilon)\n",
    "    vclasses, visited = [], []\n",
    "    kdtree = NearestNeighbors.KDTree(V);\n",
    "    @sync for vidx = 1 : size(V, 2)\n",
    "        @async begin\n",
    "            if !(vidx in visited)\n",
    "            nearvs = NearestNeighbors.inrange(kdtree, V[:,vidx], epsilon)\n",
    "            push!(vclasses, nearvs)\n",
    "\t\t\tappend!(visited, nearvs) end\n",
    "            end\n",
    "    end\n",
    "    W = hcat([sum(V[:,class], dims=2)/length(class) for class in vclasses]...)\n",
    "    return W, vclasses\n",
    "end\n",
    "\n",
    "\n"
   ]
  },
  {
   "cell_type": "markdown",
   "id": "cef8d4d9",
   "metadata": {},
   "source": [
    "# Cell Congruence"
   ]
  },
  {
   "cell_type": "markdown",
   "id": "5f9d544d",
   "metadata": {},
   "source": [
    "## Normal Version"
   ]
  },
  {
   "cell_type": "code",
   "execution_count": 4,
   "id": "af09b3d4",
   "metadata": {},
   "outputs": [
    {
     "data": {
      "text/plain": [
       "cellcongruence (generic function with 1 method)"
      ]
     },
     "execution_count": 4,
     "metadata": {},
     "output_type": "execute_result"
    }
   ],
   "source": [
    "function cellcongruence(Delta, vclasses; dim)  # ==> OK !!!\n",
    "  # cells  with old vertices\n",
    "\tcellarray = Lar.cop2lar(Delta) \n",
    "\t# conversion array old -> new vertex\n",
    "\tnewvert = Vector(undef, size(Delta,2))\n",
    "  for (k, class) in enumerate(vclasses)\n",
    "  \tfor v in class \n",
    "  \t  newvert[v] = k\n",
    "  \tend\n",
    "  end\t\n",
    "\t# conversione delle celle da vecchi a nuovi indici di vertice\n",
    "\tnewcells = Vector{Int64}[]\n",
    "\tfor cell in cellarray\n",
    "\t\tnewcell = Int64[]\n",
    "\t\tfor v in cell\n",
    "\t\t\tpush!(newcell, newvert[v])\n",
    "\t\tend\n",
    "\tend\n",
    "\t# remove duplicate cells\n",
    "\tnewcells = union(map(sort,newcells))\n",
    "\t\t# remove duplicate vertices\n",
    "\t\tnewcells = map(union,newcells)\n",
    "\t# remove empty cells\n",
    "\toutcells = filter(x -> !(length(x) <= dim || all(y->y==x[1], x)), newcells)\n",
    "end"
   ]
  },
  {
   "cell_type": "markdown",
   "id": "a4d9f5f4",
   "metadata": {},
   "source": [
    "## Optimized Version"
   ]
  },
  {
   "cell_type": "code",
   "execution_count": 5,
   "id": "b1aa393f",
   "metadata": {},
   "outputs": [
    {
     "data": {
      "text/plain": [
       "cellcongruence_OPT (generic function with 1 method)"
      ]
     },
     "execution_count": 5,
     "metadata": {},
     "output_type": "execute_result"
    }
   ],
   "source": [
    "function cellcongruence_OPT(Delta, vclasses; dim)  # ==> OK !!!\n",
    "  # cells  with old vertices\n",
    "\tcellarray = Lar.cop2lar(Delta) \n",
    "\t# conversion array old -> new vertex\n",
    "    newvert = Vector(undef, size(Delta,2))\n",
    "    for (k, class) in enumerate(vclasses) \n",
    "  \tfor v in class \n",
    "  \t  newvert[v] = k\n",
    "  \tend\n",
    "  end\t\n",
    "\t# conversione delle celle da vecchi a nuovi indici di vertice\n",
    "\tnewcells = Vector{Int64}[]\n",
    "\tfor cell in cellarray\n",
    "\t\tnewcell = Int64[]\n",
    "\t\tfor v in cell\n",
    "\t\t\tpush!(newcell, newvert[v])\n",
    "\t\tend\n",
    "\t\tlength(newcell) > dim ? push!(newcells, newcell) : break\n",
    "\tend\n",
    "\t# remove duplicate cells\n",
    "\tnewcells = union(map(sort,newcells))\n",
    "\t\t# remove duplicate vertices\n",
    "\t\tnewcells = map(union,newcells)\n",
    "\t# remove empty cells\n",
    "\toutcells = filter(x -> !(length(x) <= dim || all(y->y==x[1], x)), newcells)\n",
    "end"
   ]
  },
  {
   "cell_type": "markdown",
   "id": "6538b7b6",
   "metadata": {},
   "source": [
    "# Chain Congruence"
   ]
  },
  {
   "cell_type": "markdown",
   "id": "04e39f59",
   "metadata": {},
   "source": [
    "## Normal Version"
   ]
  },
  {
   "cell_type": "code",
   "execution_count": 6,
   "id": "fd2e60e2",
   "metadata": {},
   "outputs": [
    {
     "data": {
      "text/plain": [
       "chaincongruence (generic function with 1 method)"
      ]
     },
     "execution_count": 6,
     "metadata": {},
     "output_type": "execute_result"
    }
   ],
   "source": [
    "function chaincongruence(W, Delta_0, Delta_1; epsilon=1e-6)\n",
    "\tV, vclasses = vcongruence(W, epsilon)\n",
    "    #@show V\n",
    "\tEV = cellcongruence(Delta_0, vclasses, dim=1)\n",
    "\tEV = sort(union(map(sort, EV)))\n",
    "    #@show EV\n",
    "\tFV = cellcongruence(Delta_1 * Delta_0, vclasses, dim=2)\n",
    "\tFV = sort(union(map(sort, FV)))\n",
    "    #@show FV\n",
    "\t#copFE = coboundary_1(FV::Lar.Cells, EV::Lar.Cells)\n",
    "\t#FE = cop2lar(copFE)\n",
    "#println(\"\\n>>>>> final output from chaincongruence\\n\")\n",
    "#@show V;\n",
    "#@show EV;\n",
    "#@show FV;\n",
    "#@show FE;\n",
    "\treturn V, EV, FV#, FE\n",
    "end"
   ]
  },
  {
   "cell_type": "markdown",
   "id": "cfcf4867",
   "metadata": {},
   "source": [
    "## Optimized Version"
   ]
  },
  {
   "cell_type": "code",
   "execution_count": 7,
   "id": "2154b986",
   "metadata": {},
   "outputs": [
    {
     "data": {
      "text/plain": [
       "chaincongruence_OPT (generic function with 1 method)"
      ]
     },
     "execution_count": 7,
     "metadata": {},
     "output_type": "execute_result"
    }
   ],
   "source": [
    "function chaincongruence_OPT(W, Delta_0, Delta_1; epsilon=1e-6)\n",
    "\tV, vclasses = vcongruence_OPT(W, epsilon)\n",
    "\tEV = cellcongruence_OPT(Delta_0, vclasses, dim=1)\n",
    "\tEV = sort(union(map(sort, EV)))\n",
    "\tFV = cellcongruence_OPT(Delta_1 * Delta_0, vclasses, dim=2)\n",
    "\tFV = sort(union(map(sort, FV)))\n",
    "\t#copFE = coboundary_1(FV::Lar.Cells, EV::Lar.Cells)\n",
    "\t#FE = cop2lar(copFE)\n",
    "#println(\"\\n>>>>> final output from chaincongruence\\n\")\n",
    "#@show V;\n",
    "#@show EV;\n",
    "#@show FV;\n",
    "#@show FE;\n",
    "\treturn V, EV, FV#, FE\n",
    "end"
   ]
  },
  {
   "cell_type": "markdown",
   "id": "9192b15f",
   "metadata": {},
   "source": [
    "# Example 1: Cubo unitario"
   ]
  },
  {
   "cell_type": "code",
   "execution_count": 8,
   "id": "0e2e25dd",
   "metadata": {},
   "outputs": [
    {
     "data": {
      "text/plain": [
       "3×24 Matrix{Float64}:\n",
       " 0.531049  1.01467   0.347772  0.831391  …  0.831391  1.08972   0.906446\n",
       " 0.865999  0.682721  0.526892  0.343614     0.343614  1.03561   0.696499\n",
       " 0.141913  0.216968  0.494797  0.569852     0.569853  0.595057  0.947941"
      ]
     },
     "execution_count": 8,
     "metadata": {},
     "output_type": "execute_result"
    }
   ],
   "source": [
    "W = convert(Matrix,[0.5310492999999998 0.8659989999999999 0.14191280000000003; 1.0146684 0.6827212999999999 0.2169682; 0.3477716 0.5268921 0.4947971000000001; 0.8313907882395298 0.3436144447063971 0.5698524407571428; 0.6061046999999998 1.2188832999999994 0.5200012; 1.0897237999999998 1.0356056999999999 0.5950565999999999; 0.42282699999999984 0.8797763999999998 0.8728855; 0.9064461979373597 0.6964987903021808 0.9479408896095312; 0.5310493 0.8659989999999999 0.14191279999999987; 1.0146684000000001 0.6827213 0.21696819999999994; 0.6061047 1.2188833 0.5200011999999999; 1.0897237772434623 1.035605657895053 0.5950566438156151; 0.3477716 0.5268921 0.4947971; 0.8313908 0.3436145 0.5698525000000001; 0.422827 0.8797764000000001 0.8728855; 0.9064462 0.6964988 0.9479409; 0.5310493 0.8659989999999999 0.14191280000000006; 0.34777160000000007 0.5268920999999999 0.4947971000000001; 0.6061047 1.2188833 0.5200012000000002; 0.4228270000000002 0.8797764 0.8728855000000001; 1.0146684 0.6827213 0.21696819999999994; 0.8313908 0.3436145 0.5698525000000001; 1.0897238 1.0356057 0.5950565999999999; 0.9064461675456482 0.6964988122992563 0.9479408949632379]');\n",
    "W"
   ]
  },
  {
   "cell_type": "code",
   "execution_count": 9,
   "id": "2f9bae0b",
   "metadata": {},
   "outputs": [],
   "source": [
    "Delta_0 = SparseArrays.sparse([1, 3, 1, 4, 2, 3, 2, 4, 5, 7, 5, 8, 6, 7, 6, 8, 9, 11, 9, 12, 10, 11, 10, 12, 13, 15, 13, 16, 14, 15, 14, 16, 17, 19, 17, 20, 18, 19, 18, 20, 21, 23, 21, 24, 22, 23, 22, 24], [1, 1, 2, 2, 3, 3, 4, 4, 5, 5, 6, 6, 7, 7, 8, 8, 9, 9, 10, 10, 11, 11, 12, 12, 13, 13, 14, 14, 15, 15, 16, 16, 17, 17, 18, 18, 19, 19, 20, 20, 21, 21, 22, 22, 23, 23, 24, 24], Int8[-1, -1, 1, -1, -1, 1, 1, 1, -1, -1, 1, -1, -1, 1, 1, 1, -1, -1, 1, -1, -1, 1, 1, 1, -1, -1, 1, -1, -1, 1, 1, 1, -1, -1, 1, -1, -1, 1, 1, 1, -1, -1, 1, -1, -1, 1, 1, 1]);\n",
    "Delta_1 = SparseArrays.sparse([1, 1, 1, 1, 2, 2, 2, 2, 3, 3, 3, 3, 4, 4, 4, 4, 5, 5, 5, 5, 6, 6, 6, 6], [1, 2, 3, 4, 5, 6, 7, 8, 9, 10, 11, 12, 13, 14, 15, 16, 17, 18, 19, 20, 21, 22, 23, 24], Int8[1, -1, -1, 1, 1, -1, -1, 1, 1, -1, -1, 1, 1, -1, -1, 1, 1, -1, -1, 1, 1, -1, -1, 1]);"
   ]
  },
  {
   "cell_type": "markdown",
   "id": "13d633fb",
   "metadata": {},
   "source": [
    "## Normal Version"
   ]
  },
  {
   "cell_type": "code",
   "execution_count": 10,
   "id": "e978d45e",
   "metadata": {},
   "outputs": [
    {
     "name": "stdout",
     "output_type": "stream",
     "text": [
      "  33.203 μs (568 allocations: 36.84 KiB)\n"
     ]
    }
   ],
   "source": [
    "@btime chaincongruence(W,Delta_0,Delta_1; epsilon=1e-4);"
   ]
  },
  {
   "cell_type": "code",
   "execution_count": 17,
   "id": "496a546d",
   "metadata": {},
   "outputs": [
    {
     "data": {
      "text/plain": [
       "8-element Vector{Vector{Int64}}:\n",
       " [1]\n",
       " [2]\n",
       " [3]\n",
       " [4]\n",
       " [5]\n",
       " [6]\n",
       " [7]\n",
       " [8]"
      ]
     },
     "execution_count": 17,
     "metadata": {},
     "output_type": "execute_result"
    }
   ],
   "source": [
    "V,EV,FV = chaincongruence(W,Delta_0,Delta_1; epsilon=1e-4);\n",
    "EV = Lar.removeDups(map(sort!,EV))\n",
    "FV = Lar.removeDups(map(sort!,FV))\n",
    "VV = [[v] for v=1:size(V,2)]"
   ]
  },
  {
   "cell_type": "code",
   "execution_count": 13,
   "id": "16b05979",
   "metadata": {},
   "outputs": [
    {
     "ename": "LoadError",
     "evalue": "MethodError: no method matching sm2gbm(::Vector{Vector{Int64}})\n\u001b[0mClosest candidates are:\n\u001b[0m  sm2gbm(\u001b[91m::SparseMatrixCSC{TE, TI}\u001b[39m) where {TE, TI} at /home/simoc/.julia/packages/SparseMM/xaTPA/src/interface.jl:12\n\u001b[0m  sm2gbm(\u001b[91m::SparseMatrixCSC{TE, TI}\u001b[39m, \u001b[91m::Any\u001b[39m) where {TE, TI} at /home/simoc/.julia/packages/SparseMM/xaTPA/src/interface.jl:12",
     "output_type": "error",
     "traceback": [
      "MethodError: no method matching sm2gbm(::Vector{Vector{Int64}})\n\u001b[0mClosest candidates are:\n\u001b[0m  sm2gbm(\u001b[91m::SparseMatrixCSC{TE, TI}\u001b[39m) where {TE, TI} at /home/simoc/.julia/packages/SparseMM/xaTPA/src/interface.jl:12\n\u001b[0m  sm2gbm(\u001b[91m::SparseMatrixCSC{TE, TI}\u001b[39m, \u001b[91m::Any\u001b[39m) where {TE, TI} at /home/simoc/.julia/packages/SparseMM/xaTPA/src/interface.jl:12",
      "",
      "Stacktrace:",
      " [1] top-level scope",
      "   @ In[13]:1",
      " [2] eval",
      "   @ ./boot.jl:360 [inlined]",
      " [3] include_string(mapexpr::typeof(REPL.softscope), mod::Module, code::String, filename::String)",
      "   @ Base ./loading.jl:1116"
     ]
    }
   ],
   "source": [
    "EV_GB = SparseMM.sm2gbm(VV)"
   ]
  },
  {
   "cell_type": "markdown",
   "id": "184ff7c6",
   "metadata": {},
   "source": [
    "## Optimized Version"
   ]
  },
  {
   "cell_type": "code",
   "execution_count": 39,
   "id": "f61c3503",
   "metadata": {},
   "outputs": [
    {
     "name": "stdout",
     "output_type": "stream",
     "text": [
      "  67.186 μs (896 allocations: 71.22 KiB)\n"
     ]
    }
   ],
   "source": [
    "@btime chaincongruence_OPT(W,Delta_0,Delta_1; epsilon=1e-4);"
   ]
  },
  {
   "cell_type": "code",
   "execution_count": 40,
   "id": "b03208f8",
   "metadata": {},
   "outputs": [
    {
     "data": {
      "text/plain": [
       "8-element Vector{Vector{Int64}}:\n",
       " [1]\n",
       " [2]\n",
       " [3]\n",
       " [4]\n",
       " [5]\n",
       " [6]\n",
       " [7]\n",
       " [8]"
      ]
     },
     "execution_count": 40,
     "metadata": {},
     "output_type": "execute_result"
    }
   ],
   "source": [
    "V,EV,FV = chaincongruence_OPT(W,Delta_0,Delta_1; epsilon=1e-4);\n",
    "EV = Lar.removeDups(map(sort!,EV))\n",
    "FV = Lar.removeDups(map(sort!,FV))\n",
    "VV = [[v] for v=1:size(V,2)]"
   ]
  },
  {
   "cell_type": "markdown",
   "id": "1ebee6ab",
   "metadata": {},
   "source": [
    "## Result"
   ]
  },
  {
   "cell_type": "code",
   "execution_count": 32,
   "id": "7cf4fa94",
   "metadata": {},
   "outputs": [],
   "source": [
    "GL.VIEW(push!(GL.numbering(.5)((V,Lar.Cells[VV,EV,FV]), GL.COLORS[1], 0.5),GL.GLFrame2));"
   ]
  },
  {
   "attachments": {
    "picture.png": {
     "image/png": "[encoded data removed]"
    }
   },
   "cell_type": "markdown",
   "id": "4f03e7a4",
   "metadata": {},
   "source": [
    "![picture.png](attachment:picture.png)"
   ]
  },
  {
   "cell_type": "markdown",
   "id": "1df67961",
   "metadata": {},
   "source": [
    "# Example 2: Two tetrahedrons"
   ]
  },
  {
   "cell_type": "code",
   "execution_count": 86,
   "id": "e26ec91a",
   "metadata": {},
   "outputs": [],
   "source": [
    "V, (VV,EV,FV,CV) = Lar.simplex(3, true)\n",
    "tetra = V, EV,FV,CV\n",
    "twotetra = Lar.Struct([ tetra, Lar.t(0.25,0.25,0.25), tetra ])\n",
    "V,EV,FV,CV = Lar.struct2lar(twotetra)\n",
    "\n",
    "#cop_EV = Lar.coboundary_0(EV::Lar.Cells);\n",
    "#cop_EW = convert(Lar.ChainOp, cop_EV);\n",
    "#cop_FE = Lar.coboundary_1(V, FV::Lar.Cells, EV::Lar.Cells);\n",
    "W = convert(Lar.Points, V');\n",
    "\n",
    "Delta_0 = SparseArrays.sparse([1, 3, 1, 4, 2, 3, 2, 4, 5, 7, 5, 8, 6, 7, 6, 8, 9, 11, 9, 12, 10, 11, 10, 12, 13, 15, 13, 16, 14, 15, 14, 16, 17, 19, 17, 20, 18, 19, 18, 20, 21, 23, 21, 24, 22, 23, 22, 24], [1, 1, 2, 2, 3, 3, 4, 4, 5, 5, 6, 6, 7, 7, 8, 8, 9, 9, 10, 10, 11, 11, 12, 12, 13, 13, 14, 14, 15, 15, 16, 16, 17, 17, 18, 18, 19, 19, 20, 20, 21, 21, 22, 22, 23, 23, 24, 24], Int8[-1, -1, 1, -1, -1, 1, 1, 1, -1, -1, 1, -1, -1, 1, 1, 1, -1, -1, 1, -1, -1, 1, 1, 1, -1, -1, 1, -1, -1, 1, 1, 1, -1, -1, 1, -1, -1, 1, 1, 1, -1, -1, 1, -1, -1, 1, 1, 1]);\n",
    "Delta_1 = SparseArrays.sparse([1, 1, 1, 1, 2, 2, 2, 2, 3, 3, 3, 3, 4, 4, 4, 4, 5, 5, 5, 5, 6, 6, 6, 6], [1, 2, 3, 4, 5, 6, 7, 8, 9, 10, 11, 12, 13, 14, 15, 16, 17, 18, 19, 20, 21, 22, 23, 24], Int8[1, -1, -1, 1, 1, -1, -1, 1, 1, -1, -1, 1, 1, -1, -1, 1, 1, -1, -1, 1, 1, -1, -1, 1]);"
   ]
  },
  {
   "cell_type": "code",
   "execution_count": 29,
   "id": "9916ae09",
   "metadata": {},
   "outputs": [],
   "source": [
    "Delta_3 = SparseArrays.sparse([1, 3, 1], [1, 1, 3], Int8[-1, -1, 1]);\n",
    "Delta_4 = SparseArrays.sparse([1, 1, 1, 1, 2, 2, 2, 2, 3, 3, 3, 3, 4, 4, 4, 4, 5, 5, 5, 5, 6, 6, 6, 6], [1, 2, 3, 4, 5, 6, 7, 8, 9, 10, 11, 12, 13, 14, 15, 16, 17, 18, 19, 20, 21, 22, 23, 24], Int8[1, -1, -1, 1, 1, -1, -1, 1, 1, -1, -1, 1, 1, -1, -1, 1, 1, -1, -1, 1, 1, -1, -1, 1]);"
   ]
  },
  {
   "cell_type": "code",
   "execution_count": 30,
   "id": "07d54605",
   "metadata": {},
   "outputs": [
    {
     "name": "stdout",
     "output_type": "stream",
     "text": [
      "24×24 SparseMatrixCSC{Int8, Int64} with 48 stored entries:\n",
      " __|1___|2___|3___|4__|5___|6___|7___|18___  …  |19___|20__|21___|22___|23___|24__\n",
      "  1|-1    1     ⋅   ⋅    ⋅    ⋅    ⋅    ⋅          ⋅    ⋅     ⋅     ⋅     ⋅    ⋅  \n",
      "  2|  ⋅    ⋅  -1   1     ⋅    ⋅    ⋅    ⋅          ⋅    ⋅     ⋅     ⋅     ⋅    ⋅  \n",
      "  3|-1     ⋅   1    ⋅    ⋅    ⋅    ⋅    ⋅          ⋅    ⋅     ⋅     ⋅     ⋅    ⋅  \n",
      "  4|  ⋅  -1     ⋅  1     ⋅    ⋅    ⋅    ⋅          ⋅    ⋅     ⋅     ⋅     ⋅    ⋅  \n",
      "  5|  ⋅    ⋅    ⋅   ⋅  -1    1     ⋅    ⋅    …     ⋅    ⋅     ⋅     ⋅     ⋅    ⋅  \n",
      "  6|  ⋅    ⋅    ⋅   ⋅    ⋅    ⋅  -1     ⋅          ⋅    ⋅     ⋅     ⋅     ⋅    ⋅  \n",
      "  7|  ⋅    ⋅    ⋅   ⋅  -1     ⋅    ⋅    ⋅          ⋅    ⋅     ⋅     ⋅     ⋅    ⋅  \n",
      "  ⋮                      ⋮                   ⋱          ⋮                         \n",
      " 18|  ⋅    ⋅    ⋅   ⋅    ⋅    ⋅    ⋅    ⋅          ⋅   1      ⋅     ⋅     ⋅    ⋅  \n",
      " 19|  ⋅    ⋅    ⋅   ⋅    ⋅    ⋅    ⋅    ⋅         1     ⋅     ⋅     ⋅     ⋅    ⋅  \n",
      " 20|  ⋅    ⋅    ⋅   ⋅    ⋅    ⋅    ⋅  -1     …     ⋅   1      ⋅     ⋅     ⋅    ⋅  \n",
      " 21|  ⋅    ⋅    ⋅   ⋅    ⋅    ⋅    ⋅    ⋅          ⋅    ⋅   -1     1      ⋅    ⋅  \n",
      " 22|  ⋅    ⋅    ⋅   ⋅    ⋅    ⋅    ⋅    ⋅          ⋅    ⋅     ⋅     ⋅   -1    1   \n",
      " 23|  ⋅    ⋅    ⋅   ⋅    ⋅    ⋅    ⋅    ⋅          ⋅    ⋅   -1      ⋅    1     ⋅  \n",
      " 24|  ⋅    ⋅    ⋅   ⋅    ⋅    ⋅    ⋅    ⋅          ⋅    ⋅     ⋅   -1      ⋅   1   \n"
     ]
    }
   ],
   "source": [
    "sparseshow(Delta_0)"
   ]
  },
  {
   "cell_type": "code",
   "execution_count": 34,
   "id": "f5cfc63a",
   "metadata": {},
   "outputs": [
    {
     "name": "stdout",
     "output_type": "stream",
     "text": [
      "6×24 SparseMatrixCSC{Int8, Int64} with 24 stored entries:\n",
      " _|1__|2___|3___|4__|5__|6___|7___|18___  …  |19___|20__|21__|22___|23___|24__\n",
      " 1|1   -1   -1   1    ⋅    ⋅    ⋅    ⋅          ⋅    ⋅    ⋅     ⋅     ⋅    ⋅  \n",
      " 2| ⋅    ⋅    ⋅   ⋅  1   -1   -1     ⋅          ⋅    ⋅    ⋅     ⋅     ⋅    ⋅  \n",
      " ⋮                    ⋮                   ⋱          ⋮                        \n",
      " 5| ⋅    ⋅    ⋅   ⋅   ⋅    ⋅    ⋅  -1         -1    1     ⋅     ⋅     ⋅    ⋅  \n",
      " 6| ⋅    ⋅    ⋅   ⋅   ⋅    ⋅    ⋅    ⋅          ⋅    ⋅   1    -1    -1    1   \n"
     ]
    }
   ],
   "source": [
    "sparseshow(Delta_1)"
   ]
  },
  {
   "cell_type": "markdown",
   "id": "0d294cc2",
   "metadata": {},
   "source": [
    "# Normal Version"
   ]
  },
  {
   "cell_type": "code",
   "execution_count": 46,
   "id": "eafe0dbc",
   "metadata": {},
   "outputs": [
    {
     "data": {
      "text/plain": [
       "8×3 Matrix{Float64}:\n",
       " 0.0   0.0   0.0\n",
       " 1.0   0.0   0.0\n",
       " 0.0   1.0   0.0\n",
       " 0.0   0.0   1.0\n",
       " 0.25  0.25  0.25\n",
       " 1.25  0.25  0.25\n",
       " 0.25  1.25  0.25\n",
       " 0.25  0.25  1.25"
      ]
     },
     "execution_count": 46,
     "metadata": {},
     "output_type": "execute_result"
    }
   ],
   "source": [
    "W"
   ]
  },
  {
   "cell_type": "code",
   "execution_count": 87,
   "id": "42edf784",
   "metadata": {},
   "outputs": [
    {
     "name": "stdout",
     "output_type": "stream",
     "text": [
      "V = [0.0 0.0 0.0; 1.0 0.0 0.0; 0.0 1.0 0.0; 0.0 0.0 1.0; 0.25 0.25 0.25; 1.25 0.25 0.25; 0.25 1.25 0.25; 0.25 0.25 1.25]\n",
      "Any[#undef, #undef, #undef, #undef, #undef, #undef, #undef, #undef, #undef, #undef, #undef, #undef, #undef, #undef, #undef, #undef, #undef, #undef, #undef, #undef, #undef, #undef, #undef, #undef]\n",
      "newcell=[1, 2] dim=1\n"
     ]
    },
    {
     "data": {
      "text/plain": [
       "Vector{Int64}[]"
      ]
     },
     "metadata": {},
     "output_type": "display_data"
    },
    {
     "data": {
      "text/plain": [
       "1-element Vector{Vector{Int64}}:\n",
       " [1, 2]"
      ]
     },
     "metadata": {},
     "output_type": "display_data"
    },
    {
     "ename": "LoadError",
     "evalue": "UndefRefError: access to undefined reference",
     "output_type": "error",
     "traceback": [
      "UndefRefError: access to undefined reference",
      "",
      "Stacktrace:",
      "  [1] getindex(A::Vector{Any}, i1::Int64)",
      "    @ Base ./array.jl:805",
      "  [2] cellcongruence(Delta::SparseMatrixCSC{Int8, Int64}, vclasses::Vector{Any}; dim::Int64)",
      "    @ Main ./In[82]:17",
      "  [3] chaincongruence(W::Matrix{Float64}, Delta_0::SparseMatrixCSC{Int8, Int64}, Delta_1::SparseMatrixCSC{Int8, Int64}; epsilon::Float64)",
      "    @ Main ./In[33]:4",
      "  [4] var\"##core#444\"()",
      "    @ Main ~/.julia/packages/BenchmarkTools/7xSXH/src/execution.jl:489",
      "  [5] var\"##sample#445\"(::Tuple{}, __params::BenchmarkTools.Parameters)",
      "    @ Main ~/.julia/packages/BenchmarkTools/7xSXH/src/execution.jl:495",
      "  [6] _run(b::BenchmarkTools.Benchmark, p::BenchmarkTools.Parameters; verbose::Bool, pad::String, kwargs::Base.Iterators.Pairs{Symbol, Integer, NTuple{4, Symbol}, NamedTuple{(:samples, :evals, :gctrial, :gcsample), Tuple{Int64, Int64, Bool, Bool}}})",
      "    @ BenchmarkTools ~/.julia/packages/BenchmarkTools/7xSXH/src/execution.jl:99",
      "  [7] #invokelatest#2",
      "    @ ./essentials.jl:710 [inlined]",
      "  [8] #run_result#45",
      "    @ ~/.julia/packages/BenchmarkTools/7xSXH/src/execution.jl:34 [inlined]",
      "  [9] run(b::BenchmarkTools.Benchmark, p::BenchmarkTools.Parameters; progressid::Nothing, nleaves::Float64, ndone::Float64, kwargs::Base.Iterators.Pairs{Symbol, Integer, NTuple{5, Symbol}, NamedTuple{(:verbose, :samples, :evals, :gctrial, :gcsample), Tuple{Bool, Int64, Int64, Bool, Bool}}})",
      "    @ BenchmarkTools ~/.julia/packages/BenchmarkTools/7xSXH/src/execution.jl:117",
      " [10] #warmup#54",
      "    @ ~/.julia/packages/BenchmarkTools/7xSXH/src/execution.jl:169 [inlined]",
      " [11] warmup(item::BenchmarkTools.Benchmark)",
      "    @ BenchmarkTools ~/.julia/packages/BenchmarkTools/7xSXH/src/execution.jl:169",
      " [12] top-level scope",
      "    @ ~/.julia/packages/BenchmarkTools/7xSXH/src/execution.jl:575",
      " [13] eval",
      "    @ ./boot.jl:360 [inlined]",
      " [14] include_string(mapexpr::typeof(REPL.softscope), mod::Module, code::String, filename::String)",
      "    @ Base ./loading.jl:1116"
     ]
    }
   ],
   "source": [
    "@btime chaincongruence(W,Delta_0,Delta_1; epsilon=1e-4);"
   ]
  },
  {
   "cell_type": "markdown",
   "id": "d4698dfe",
   "metadata": {},
   "source": [
    "## Optimized Version"
   ]
  },
  {
   "cell_type": "code",
   "execution_count": null,
   "id": "48b8f991",
   "metadata": {},
   "outputs": [],
   "source": []
  },
  {
   "cell_type": "markdown",
   "id": "8303a09b",
   "metadata": {},
   "source": [
    "# Example 3: Random Shapes"
   ]
  },
  {
   "cell_type": "code",
   "execution_count": 94,
   "id": "b54b545f",
   "metadata": {},
   "outputs": [
    {
     "ename": "LoadError",
     "evalue": "UndefKeywordError: keyword argument dims not assigned",
     "output_type": "error",
     "traceback": [
      "UndefKeywordError: keyword argument dims not assigned",
      "",
      "Stacktrace:",
      " [1] cat",
      "   @ ./abstractarray.jl:1781 [inlined]",
      " [2] (::LinearAlgebraicRepresentation.var\"#379#386\")(comp::Vector{Vector{Vector{Any}}})",
      "   @ LinearAlgebraicRepresentation ./none:0",
      " [3] iterate",
      "   @ ./generator.jl:47 [inlined]",
      " [4] collect(itr::Base.Generator{Vector{Vector{Vector{Vector{Any}}}}, LinearAlgebraicRepresentation.var\"#379#386\"})",
      "   @ Base ./array.jl:681",
      " [5] biconnectedComponent(model::Tuple{Matrix{Float64}, Vector{Vector{Int64}}})",
      "   @ LinearAlgebraicRepresentation ~/.julia/packages/LinearAlgebraicRepresentation/qwzGL/src/graphalgorithms.jl:162",
      " [6] top-level scope",
      "   @ In[94]:9",
      " [7] eval",
      "   @ ./boot.jl:360 [inlined]",
      " [8] include_string(mapexpr::typeof(REPL.softscope), mod::Module, code::String, filename::String)",
      "   @ Base ./loading.jl:1116"
     ]
    }
   ],
   "source": [
    "V,EV,FV = Lar.randomcubes(5, .8)\n",
    "\tmodel3d = V,EV,FV\n",
    "\tVV = [[k] for k=1:size(V,2)]\n",
    "\n",
    "\tSigma =  Lar.spaceindex((V,FV))\n",
    "\n",
    "\n",
    "#L'errore è in questa funzione, non si riesce a capire cosa sia il keyword arguments dims\n",
    "\tV,EVs = Lar.biconnectedComponent((V,EV::Lar.Cells)) # 2-connected components (H & T)\n",
    "\n",
    "\n",
    "\tW,bases,coboundaries = Lar.chaincomplex(V,FV,EV)\n",
    "\tEV, FV, CV = bases\n",
    "\tcopEV, copFE, copCF = coboundaries # OK\n",
    "\n",
    "EV = Lar.cop2lar(copEV)\n",
    "FE = [findnz(copFE[k,:])[1] for k=1:size(copFE,1)]\n",
    "FV = [collect(Set(cat(EV[e] for e in FE[f]))) for f=1:length(FE)]\n",
    "FV = convert(Lar.Cells, FV)\n",
    "W = convert(Lar.Points, V')\n"
   ]
  },
  {
   "cell_type": "markdown",
   "id": "314167e8",
   "metadata": {},
   "source": [
    "# Two CubeGrids"
   ]
  },
  {
   "cell_type": "code",
   "execution_count": 84,
   "id": "2414c128",
   "metadata": {},
   "outputs": [
    {
     "name": "stdout",
     "output_type": "stream",
     "text": [
      "99%\r"
     ]
    },
    {
     "data": {
      "text/plain": [
       "3×1192 Matrix{Float64}:\n",
       " 0.0  0.0  0.0  0.0  0.0  0.0  0.0      …  3.83553  3.83553  3.83553  3.83553\n",
       " 0.0  0.0  1.0  1.0  0.0  1.0  1.0         4.17863  3.59084  3.00306  2.41527\n",
       " 0.0  1.0  0.0  1.0  2.0  2.0  1.57897     5.71747  6.52649  7.3355   8.14452"
      ]
     },
     "execution_count": 84,
     "metadata": {},
     "output_type": "execute_result"
    }
   ],
   "source": [
    "V,(VV,EV,FV,CV) = Lar.cuboidGrid([5,5,5],true)\n",
    "mybox = (V,CV,FV,EV)\n",
    "\n",
    "twocubs = Lar.Struct([mybox, Lar.t(.3,.4,.5), Lar.r(pi/5,0,0), Lar.r(0,0,pi/12), mybox])\n",
    "\n",
    "V,CV,FV,EV = Lar.struct2lar(twocubs)\n",
    "\n",
    "cop_EV = Lar.coboundary_0(EV::Lar.Cells);\n",
    "cop_EW = convert(Lar.ChainOp, cop_EV);\n",
    "cop_FE = Lar.coboundary_1(V, FV::Lar.Cells, EV::Lar.Cells);\n",
    "W = convert(Lar.Points, V');\n",
    "\n",
    "V, copEV, copFE, copCF = Lar.Arrangement.spatial_arrangement( W, cop_EW, cop_FE)\n",
    "\n",
    "W = convert(Lar.Points, V')"
   ]
  },
  {
   "cell_type": "code",
   "execution_count": 85,
   "id": "abf9ca96",
   "metadata": {},
   "outputs": [],
   "source": [
    "Delta_0 = SparseArrays.sparse([1, 3, 1, 4, 2, 3, 2, 4, 5, 7, 5, 8, 6, 7, 6, 8, 9, 11, 9, 12, 10, 11, 10, 12, 13, 15, 13, 16, 14, 15, 14, 16, 17, 19, 17, 20, 18, 19, 18, 20, 21, 23, 21, 24, 22, 23, 22, 24], [1, 1, 2, 2, 3, 3, 4, 4, 5, 5, 6, 6, 7, 7, 8, 8, 9, 9, 10, 10, 11, 11, 12, 12, 13, 13, 14, 14, 15, 15, 16, 16, 17, 17, 18, 18, 19, 19, 20, 20, 21, 21, 22, 22, 23, 23, 24, 24], Int8[-1, -1, 1, -1, -1, 1, 1, 1, -1, -1, 1, -1, -1, 1, 1, 1, -1, -1, 1, -1, -1, 1, 1, 1, -1, -1, 1, -1, -1, 1, 1, 1, -1, -1, 1, -1, -1, 1, 1, 1, -1, -1, 1, -1, -1, 1, 1, 1]);\n",
    "Delta_1 = SparseArrays.sparse([1, 1, 1, 1, 2, 2, 2, 2, 3, 3, 3, 3, 4, 4, 4, 4, 5, 5, 5, 5, 6, 6, 6, 6], [1, 2, 3, 4, 5, 6, 7, 8, 9, 10, 11, 12, 13, 14, 15, 16, 17, 18, 19, 20, 21, 22, 23, 24], Int8[1, -1, -1, 1, 1, -1, -1, 1, 1, -1, -1, 1, 1, -1, -1, 1, 1, -1, -1, 1, 1, -1, -1, 1]);"
   ]
  },
  {
   "cell_type": "code",
   "execution_count": 62,
   "id": "a16528ef",
   "metadata": {},
   "outputs": [
    {
     "name": "stdout",
     "output_type": "stream",
     "text": [
      "V = [0.0 0.0 0.0; 1.0 0.0 0.0; 0.0 1.0 0.0; 0.0 0.0 1.0; 0.25 0.25 0.25; 1.25 0.25 0.25; 0.25 1.25 0.25; 0.25 0.25 1.25]\n",
      "Any[#undef, #undef, #undef, #undef, #undef, #undef, #undef, #undef, #undef, #undef, #undef, #undef, #undef, #undef, #undef, #undef, #undef, #undef, #undef, #undef, #undef, #undef, #undef, #undef]\n"
     ]
    },
    {
     "ename": "LoadError",
     "evalue": "UndefRefError: access to undefined reference",
     "output_type": "error",
     "traceback": [
      "UndefRefError: access to undefined reference",
      "",
      "Stacktrace:",
      " [1] getindex(A::Vector{Any}, i1::Int64)",
      "   @ Base ./array.jl:805",
      " [2] cellcongruence(Delta::SparseMatrixCSC{Int8, Int64}, vclasses::Vector{Any}; dim::Int64)",
      "   @ Main ./In[61]:17",
      " [3] chaincongruence(W::Matrix{Float64}, Delta_0::SparseMatrixCSC{Int8, Int64}, Delta_1::SparseMatrixCSC{Int8, Int64}; epsilon::Float64)",
      "   @ Main ./In[33]:4",
      " [4] top-level scope",
      "   @ In[62]:1",
      " [5] eval",
      "   @ ./boot.jl:360 [inlined]",
      " [6] include_string(mapexpr::typeof(REPL.softscope), mod::Module, code::String, filename::String)",
      "   @ Base ./loading.jl:1116"
     ]
    }
   ],
   "source": [
    "chaincongruence(W,Delta_0,Delta_1; epsilon=1e-4);"
   ]
  },
  {
   "cell_type": "code",
   "execution_count": null,
   "id": "e140b894",
   "metadata": {},
   "outputs": [],
   "source": []
  }
 ],
 "metadata": {
  "kernelspec": {
   "display_name": "Julia 1.6.5",
   "language": "julia",
   "name": "julia-1.6"
  },
  "language_info": {
   "file_extension": ".jl",
   "mimetype": "application/julia",
   "name": "julia",
   "version": "1.6.5"
  }
 },
 "nbformat": 4,
 "nbformat_minor": 5
}
